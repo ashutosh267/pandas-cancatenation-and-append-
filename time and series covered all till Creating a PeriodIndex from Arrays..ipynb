{
 "cells": [
  {
   "cell_type": "markdown",
   "id": "2396539f",
   "metadata": {},
   "source": [
    "## Dates and Times in Python\n",
    "\n",
    "datetime stores both the date and time down to the microsecond."
   ]
  },
  {
   "cell_type": "code",
   "execution_count": 1,
   "id": "193d9e8e",
   "metadata": {},
   "outputs": [],
   "source": [
    " from datetime import datetime"
   ]
  },
  {
   "cell_type": "code",
   "execution_count": 2,
   "id": "d0eafa3c",
   "metadata": {},
   "outputs": [
    {
     "data": {
      "text/plain": [
       "datetime.datetime(2023, 9, 22, 23, 22, 13, 691447)"
      ]
     },
     "execution_count": 2,
     "metadata": {},
     "output_type": "execute_result"
    }
   ],
   "source": [
    "# fetching current date and time\n",
    "s=datetime.now()\n",
    "s"
   ]
  },
  {
   "cell_type": "raw",
   "id": "acd8a434",
   "metadata": {},
   "source": [
    "see in the above time is in microsecond also"
   ]
  },
  {
   "cell_type": "code",
   "execution_count": 3,
   "id": "43d70d33",
   "metadata": {},
   "outputs": [
    {
     "data": {
      "text/plain": [
       "datetime.datetime"
      ]
     },
     "execution_count": 3,
     "metadata": {},
     "output_type": "execute_result"
    }
   ],
   "source": [
    "# checking s type it will give in date time formate\n",
    "type(s)"
   ]
  },
  {
   "cell_type": "code",
   "execution_count": 4,
   "id": "e3ee4104",
   "metadata": {
    "scrolled": true
   },
   "outputs": [
    {
     "data": {
      "text/plain": [
       "22"
      ]
     },
     "metadata": {},
     "output_type": "display_data"
    },
    {
     "data": {
      "text/plain": [
       "9"
      ]
     },
     "metadata": {},
     "output_type": "display_data"
    },
    {
     "data": {
      "text/plain": [
       "2023"
      ]
     },
     "metadata": {},
     "output_type": "display_data"
    },
    {
     "data": {
      "text/plain": [
       "23"
      ]
     },
     "metadata": {},
     "output_type": "display_data"
    },
    {
     "data": {
      "text/plain": [
       "22"
      ]
     },
     "metadata": {},
     "output_type": "display_data"
    },
    {
     "data": {
      "text/plain": [
       "13"
      ]
     },
     "metadata": {},
     "output_type": "display_data"
    }
   ],
   "source": [
    "# we can fetch day ,month ,year and hours,min,sec lets see\n",
    "display(s.day , s.month, s.year, s.hour,s.minute,s.second)"
   ]
  },
  {
   "cell_type": "code",
   "execution_count": 5,
   "id": "6ab45f1c",
   "metadata": {},
   "outputs": [
    {
     "data": {
      "text/plain": [
       "(22, 9, 2023, 23, 22, 13)"
      ]
     },
     "execution_count": 5,
     "metadata": {},
     "output_type": "execute_result"
    }
   ],
   "source": [
    "s.day,s.month,s.year,s.hour,s.minute,s.second"
   ]
  },
  {
   "cell_type": "code",
   "execution_count": 6,
   "id": "9642c999",
   "metadata": {},
   "outputs": [
    {
     "name": "stdout",
     "output_type": "stream",
     "text": [
      "22 9 2023 23 22 13 691447\n"
     ]
    }
   ],
   "source": [
    "# if we print this things using print commnad it look like this\n",
    "print(s.day,s.month,s.year,s.hour,s.minute,s.second,s.microsecond)"
   ]
  },
  {
   "cell_type": "markdown",
   "id": "c085dfb5",
   "metadata": {},
   "source": [
    "# Converting between string and datetime\n"
   ]
  },
  {
   "cell_type": "markdown",
   "id": "cc6090d5",
   "metadata": {},
   "source": [
    "### strptime()\n",
    "\n",
    "The strptime() function in Python is used to format and return a string representation of date and time. It takes in the date, time, or both as an input, and parses it according to the directives given to it. It raises ValueError if the string cannot be formatted according to the provided.\n",
    "\n",
    "The strptime() method creates a datetime object from the given string. \n",
    "\n",
    "Basically it covert string datetime format into datetime.datetime object()\n",
    "\n",
    "For Example if date is given in the this format:- '02 september 2023' then it will format it in 02-09-2023\n",
    " (-) instead of using hypen you can use other thingd as well.\n",
    " \n",
    "\n",
    "Syntax: datetime.strptime(time_data, format_data)\n",
    "\n",
    "Parameter:\n",
    "\n",
    "time_data is the time present in string format\n",
    "format_data is the data present in datetime format which is converted from time_data using this function.\n"
   ]
  },
  {
   "cell_type": "code",
   "execution_count": 7,
   "id": "c7ab45b4",
   "metadata": {},
   "outputs": [],
   "source": [
    "#Syntax: datetime.strptime(time_data, format_data)\n",
    "\n",
    "#Parameter:\n",
    "#time_data is the time present in string format\n",
    "#format_data is the data present in datetime format which is converted from time_data using this function.\n"
   ]
  },
  {
   "cell_type": "code",
   "execution_count": 8,
   "id": "71fdecbc",
   "metadata": {},
   "outputs": [
    {
     "name": "stdout",
     "output_type": "stream",
     "text": [
      "9/20/2023\n"
     ]
    }
   ],
   "source": [
    "# taking a date as string in a variable\n",
    "today_date='9/20/2023'\n",
    "print(today_date)"
   ]
  },
  {
   "cell_type": "code",
   "execution_count": 9,
   "id": "7fd4e4ef",
   "metadata": {},
   "outputs": [
    {
     "data": {
      "text/plain": [
       "str"
      ]
     },
     "execution_count": 9,
     "metadata": {},
     "output_type": "execute_result"
    }
   ],
   "source": [
    "# checking the datattype of today_date variable\n",
    "type(today_date)"
   ]
  },
  {
   "cell_type": "code",
   "execution_count": 10,
   "id": "5dee34fd",
   "metadata": {},
   "outputs": [
    {
     "name": "stdout",
     "output_type": "stream",
     "text": [
      "2023-09-20 00:00:00\n"
     ]
    }
   ],
   "source": [
    "#  now converting string datetime into datetime object\n",
    "now=datetime.strptime(today_date, '%m/%d/%Y')\n",
    "print(now)"
   ]
  },
  {
   "cell_type": "code",
   "execution_count": 11,
   "id": "5c0545f2",
   "metadata": {},
   "outputs": [
    {
     "name": "stdout",
     "output_type": "stream",
     "text": [
      "<class 'datetime.datetime'>\n"
     ]
    }
   ],
   "source": [
    "# checking its datatype\n",
    "print(type(now))"
   ]
  },
  {
   "cell_type": "raw",
   "id": "bf37c70c",
   "metadata": {},
   "source": [
    "As we can see the today_date variable is in string form after using the strptime() it has been formated or converted into the datetime object()"
   ]
  },
  {
   "cell_type": "code",
   "execution_count": 12,
   "id": "6aecff51",
   "metadata": {},
   "outputs": [
    {
     "data": {
      "text/plain": [
       "'sep-20-23'"
      ]
     },
     "metadata": {},
     "output_type": "display_data"
    },
    {
     "data": {
      "text/plain": [
       "str"
      ]
     },
     "metadata": {},
     "output_type": "display_data"
    }
   ],
   "source": [
    "# again doing same thing as we have done above.\n",
    "date='sep-20-23'\n",
    "display(date,type(date))"
   ]
  },
  {
   "cell_type": "code",
   "execution_count": 13,
   "id": "9f8a6fde",
   "metadata": {},
   "outputs": [
    {
     "ename": "ValueError",
     "evalue": "time data 'sep-20-23' does not match format '%b-%d-%Y'",
     "output_type": "error",
     "traceback": [
      "\u001b[1;31m---------------------------------------------------------------------------\u001b[0m",
      "\u001b[1;31mValueError\u001b[0m                                Traceback (most recent call last)",
      "Input \u001b[1;32mIn [13]\u001b[0m, in \u001b[0;36m<cell line: 1>\u001b[1;34m()\u001b[0m\n\u001b[1;32m----> 1\u001b[0m convert\u001b[38;5;241m=\u001b[39m\u001b[43mdatetime\u001b[49m\u001b[38;5;241;43m.\u001b[39;49m\u001b[43mstrptime\u001b[49m\u001b[43m(\u001b[49m\u001b[43mdate\u001b[49m\u001b[43m,\u001b[49m\u001b[38;5;124;43m'\u001b[39;49m\u001b[38;5;124;43m%\u001b[39;49m\u001b[38;5;124;43mb-\u001b[39;49m\u001b[38;5;132;43;01m%d\u001b[39;49;00m\u001b[38;5;124;43m-\u001b[39;49m\u001b[38;5;124;43m%\u001b[39;49m\u001b[38;5;124;43mY\u001b[39;49m\u001b[38;5;124;43m'\u001b[39;49m\u001b[43m)\u001b[49m\n",
      "File \u001b[1;32m~\\anaconda3\\an\\lib\\_strptime.py:568\u001b[0m, in \u001b[0;36m_strptime_datetime\u001b[1;34m(cls, data_string, format)\u001b[0m\n\u001b[0;32m    565\u001b[0m \u001b[38;5;28;01mdef\u001b[39;00m \u001b[38;5;21m_strptime_datetime\u001b[39m(\u001b[38;5;28mcls\u001b[39m, data_string, \u001b[38;5;28mformat\u001b[39m\u001b[38;5;241m=\u001b[39m\u001b[38;5;124m\"\u001b[39m\u001b[38;5;132;01m%a\u001b[39;00m\u001b[38;5;124m \u001b[39m\u001b[38;5;124m%\u001b[39m\u001b[38;5;124mb \u001b[39m\u001b[38;5;132;01m%d\u001b[39;00m\u001b[38;5;124m \u001b[39m\u001b[38;5;124m%\u001b[39m\u001b[38;5;124mH:\u001b[39m\u001b[38;5;124m%\u001b[39m\u001b[38;5;124mM:\u001b[39m\u001b[38;5;124m%\u001b[39m\u001b[38;5;124mS \u001b[39m\u001b[38;5;124m%\u001b[39m\u001b[38;5;124mY\u001b[39m\u001b[38;5;124m\"\u001b[39m):\n\u001b[0;32m    566\u001b[0m     \u001b[38;5;124;03m\"\"\"Return a class cls instance based on the input string and the\u001b[39;00m\n\u001b[0;32m    567\u001b[0m \u001b[38;5;124;03m    format string.\"\"\"\u001b[39;00m\n\u001b[1;32m--> 568\u001b[0m     tt, fraction, gmtoff_fraction \u001b[38;5;241m=\u001b[39m \u001b[43m_strptime\u001b[49m\u001b[43m(\u001b[49m\u001b[43mdata_string\u001b[49m\u001b[43m,\u001b[49m\u001b[43m \u001b[49m\u001b[38;5;28;43mformat\u001b[39;49m\u001b[43m)\u001b[49m\n\u001b[0;32m    569\u001b[0m     tzname, gmtoff \u001b[38;5;241m=\u001b[39m tt[\u001b[38;5;241m-\u001b[39m\u001b[38;5;241m2\u001b[39m:]\n\u001b[0;32m    570\u001b[0m     args \u001b[38;5;241m=\u001b[39m tt[:\u001b[38;5;241m6\u001b[39m] \u001b[38;5;241m+\u001b[39m (fraction,)\n",
      "File \u001b[1;32m~\\anaconda3\\an\\lib\\_strptime.py:349\u001b[0m, in \u001b[0;36m_strptime\u001b[1;34m(data_string, format)\u001b[0m\n\u001b[0;32m    347\u001b[0m found \u001b[38;5;241m=\u001b[39m format_regex\u001b[38;5;241m.\u001b[39mmatch(data_string)\n\u001b[0;32m    348\u001b[0m \u001b[38;5;28;01mif\u001b[39;00m \u001b[38;5;129;01mnot\u001b[39;00m found:\n\u001b[1;32m--> 349\u001b[0m     \u001b[38;5;28;01mraise\u001b[39;00m \u001b[38;5;167;01mValueError\u001b[39;00m(\u001b[38;5;124m\"\u001b[39m\u001b[38;5;124mtime data \u001b[39m\u001b[38;5;132;01m%r\u001b[39;00m\u001b[38;5;124m does not match format \u001b[39m\u001b[38;5;132;01m%r\u001b[39;00m\u001b[38;5;124m\"\u001b[39m \u001b[38;5;241m%\u001b[39m\n\u001b[0;32m    350\u001b[0m                      (data_string, \u001b[38;5;28mformat\u001b[39m))\n\u001b[0;32m    351\u001b[0m \u001b[38;5;28;01mif\u001b[39;00m \u001b[38;5;28mlen\u001b[39m(data_string) \u001b[38;5;241m!=\u001b[39m found\u001b[38;5;241m.\u001b[39mend():\n\u001b[0;32m    352\u001b[0m     \u001b[38;5;28;01mraise\u001b[39;00m \u001b[38;5;167;01mValueError\u001b[39;00m(\u001b[38;5;124m\"\u001b[39m\u001b[38;5;124munconverted data remains: \u001b[39m\u001b[38;5;132;01m%s\u001b[39;00m\u001b[38;5;124m\"\u001b[39m \u001b[38;5;241m%\u001b[39m\n\u001b[0;32m    353\u001b[0m                       data_string[found\u001b[38;5;241m.\u001b[39mend():])\n",
      "\u001b[1;31mValueError\u001b[0m: time data 'sep-20-23' does not match format '%b-%d-%Y'"
     ]
    }
   ],
   "source": [
    "convert=datetime.strptime(date,'%b-%d-%Y')"
   ]
  },
  {
   "cell_type": "raw",
   "id": "8c7b7de3",
   "metadata": {},
   "source": [
    "Yes ,its give error as we mentioned earlier that It raises ValueError if the string cannot be formatted according to the provided.\n",
    "\n",
    "the mistake is that instead of doing %y i have given %Y and in the  string it is only 23. for your reference visit https://strftime.org"
   ]
  },
  {
   "cell_type": "code",
   "execution_count": 19,
   "id": "13659d89",
   "metadata": {},
   "outputs": [
    {
     "data": {
      "text/plain": [
       "datetime.datetime(2023, 9, 20, 0, 0)"
      ]
     },
     "execution_count": 19,
     "metadata": {},
     "output_type": "execute_result"
    }
   ],
   "source": [
    "# doing the correction to remove errors \n",
    "convert=datetime.strptime(date,'%b-%d-%y')\n",
    "convert"
   ]
  },
  {
   "cell_type": "code",
   "execution_count": 20,
   "id": "f47da9c6",
   "metadata": {},
   "outputs": [
    {
     "data": {
      "text/plain": [
       "datetime.datetime"
      ]
     },
     "execution_count": 20,
     "metadata": {},
     "output_type": "execute_result"
    }
   ],
   "source": [
    "type(convert)"
   ]
  },
  {
   "cell_type": "code",
   "execution_count": 21,
   "id": "61bab4cb",
   "metadata": {},
   "outputs": [],
   "source": [
    "passdate = datetime.strptime('20  December 2023', '%d %B %Y')"
   ]
  },
  {
   "cell_type": "code",
   "execution_count": 22,
   "id": "6c5decd2",
   "metadata": {},
   "outputs": [
    {
     "data": {
      "text/plain": [
       "datetime.datetime(2023, 12, 20, 0, 0)"
      ]
     },
     "execution_count": 22,
     "metadata": {},
     "output_type": "execute_result"
    }
   ],
   "source": [
    "passdate"
   ]
  },
  {
   "cell_type": "code",
   "execution_count": 23,
   "id": "d4493cfa",
   "metadata": {},
   "outputs": [
    {
     "name": "stdout",
     "output_type": "stream",
     "text": [
      "2023-12-20 00:00:00\n"
     ]
    }
   ],
   "source": [
    "print(passdate)"
   ]
  },
  {
   "cell_type": "code",
   "execution_count": 24,
   "id": "225a1e70",
   "metadata": {},
   "outputs": [
    {
     "data": {
      "text/plain": [
       "12"
      ]
     },
     "metadata": {},
     "output_type": "display_data"
    },
    {
     "data": {
      "text/plain": [
       "20"
      ]
     },
     "metadata": {},
     "output_type": "display_data"
    },
    {
     "data": {
      "text/plain": [
       "2023"
      ]
     },
     "metadata": {},
     "output_type": "display_data"
    }
   ],
   "source": [
    "display(passdate.month, passdate.day,passdate.year)"
   ]
  },
  {
   "cell_type": "code",
   "execution_count": 25,
   "id": "9385ad09",
   "metadata": {},
   "outputs": [
    {
     "name": "stdout",
     "output_type": "stream",
     "text": [
      "12-01-2023 8:08:45 AM\n"
     ]
    }
   ],
   "source": [
    "# here we can take date and time with am and pm and convert into datetime object \n",
    "df='12-01-2023 8:08:45 AM'\n",
    "print(df)"
   ]
  },
  {
   "cell_type": "code",
   "execution_count": 26,
   "id": "6c7e2f11",
   "metadata": {},
   "outputs": [
    {
     "data": {
      "text/plain": [
       "str"
      ]
     },
     "execution_count": 26,
     "metadata": {},
     "output_type": "execute_result"
    }
   ],
   "source": [
    "type(df)"
   ]
  },
  {
   "cell_type": "code",
   "execution_count": 27,
   "id": "dc7f5a75",
   "metadata": {},
   "outputs": [
    {
     "name": "stdout",
     "output_type": "stream",
     "text": [
      "2023-01-12 08:08:45\n"
     ]
    }
   ],
   "source": [
    "og=datetime.strptime(df, '%d-%m-%Y %I:%M:%S %p')\n",
    "print(og)"
   ]
  },
  {
   "cell_type": "code",
   "execution_count": 28,
   "id": "f83e4f35",
   "metadata": {},
   "outputs": [
    {
     "data": {
      "text/plain": [
       "datetime.datetime"
      ]
     },
     "execution_count": 28,
     "metadata": {},
     "output_type": "execute_result"
    }
   ],
   "source": [
    "type(og)"
   ]
  },
  {
   "cell_type": "markdown",
   "id": "7b5b29eb",
   "metadata": {},
   "source": [
    "# strftime() \n",
    " \n",
    " \n",
    "strftime() convert datetime object into string.\n",
    " "
   ]
  },
  {
   "cell_type": "code",
   "execution_count": 29,
   "id": "02ab80ba",
   "metadata": {},
   "outputs": [
    {
     "name": "stdout",
     "output_type": "stream",
     "text": [
      "date and time is in datetime object : 2023-09-22 23:22:41.472106\n"
     ]
    }
   ],
   "source": [
    "# fetching current time \n",
    "time= datetime.now()\n",
    "print('date and time is in datetime object :',time)"
   ]
  },
  {
   "cell_type": "code",
   "execution_count": 30,
   "id": "0c60b0ef",
   "metadata": {},
   "outputs": [
    {
     "data": {
      "text/plain": [
       "datetime.datetime(2023, 9, 22, 23, 22, 41, 472106)"
      ]
     },
     "execution_count": 30,
     "metadata": {},
     "output_type": "execute_result"
    }
   ],
   "source": [
    "time"
   ]
  },
  {
   "cell_type": "code",
   "execution_count": 31,
   "id": "44b45d68",
   "metadata": {},
   "outputs": [
    {
     "data": {
      "text/plain": [
       "datetime.datetime"
      ]
     },
     "execution_count": 31,
     "metadata": {},
     "output_type": "execute_result"
    }
   ],
   "source": [
    "# checking its data type \n",
    "type(time)"
   ]
  },
  {
   "cell_type": "code",
   "execution_count": 32,
   "id": "880f7b68",
   "metadata": {},
   "outputs": [
    {
     "name": "stdout",
     "output_type": "stream",
     "text": [
      "date and time is in string: 2023-09-22 11:22:41:472106\n"
     ]
    }
   ],
   "source": [
    "# using strftime() we can change datetime object into strings \n",
    "here=datetime.strftime(time, '%Y-%m-%d %I:%M:%S:%f')\n",
    "print('date and time is in string:', here)"
   ]
  },
  {
   "cell_type": "code",
   "execution_count": 33,
   "id": "000dd10e",
   "metadata": {},
   "outputs": [
    {
     "data": {
      "text/plain": [
       "'2023-09-22 11:22:41:472106'"
      ]
     },
     "execution_count": 33,
     "metadata": {},
     "output_type": "execute_result"
    }
   ],
   "source": [
    "here"
   ]
  },
  {
   "cell_type": "code",
   "execution_count": 34,
   "id": "49432a57",
   "metadata": {},
   "outputs": [
    {
     "data": {
      "text/plain": [
       "str"
      ]
     },
     "execution_count": 34,
     "metadata": {},
     "output_type": "execute_result"
    }
   ],
   "source": [
    "type(here)"
   ]
  },
  {
   "cell_type": "code",
   "execution_count": 35,
   "id": "c7ea6a02",
   "metadata": {},
   "outputs": [
    {
     "name": "stdout",
     "output_type": "stream",
     "text": [
      "2023\n"
     ]
    }
   ],
   "source": [
    "# here we can extract year ,month ,weekday ,week etc\n",
    "print(time.strftime('%Y'))"
   ]
  },
  {
   "cell_type": "code",
   "execution_count": 36,
   "id": "2b4b88b8",
   "metadata": {},
   "outputs": [
    {
     "data": {
      "text/plain": [
       "'09'"
      ]
     },
     "execution_count": 36,
     "metadata": {},
     "output_type": "execute_result"
    }
   ],
   "source": [
    "# fetching Month from the tome variable\n",
    "time.strftime('%m')"
   ]
  },
  {
   "cell_type": "code",
   "execution_count": 37,
   "id": "1682b1a0",
   "metadata": {},
   "outputs": [
    {
     "data": {
      "text/plain": [
       "'Friday'"
      ]
     },
     "execution_count": 37,
     "metadata": {},
     "output_type": "execute_result"
    }
   ],
   "source": [
    "# fetching weekday from time variable \n",
    "time.strftime('%A')"
   ]
  },
  {
   "cell_type": "code",
   "execution_count": 38,
   "id": "0904d935",
   "metadata": {},
   "outputs": [
    {
     "data": {
      "text/plain": [
       "'2023'"
      ]
     },
     "execution_count": 38,
     "metadata": {},
     "output_type": "execute_result"
    }
   ],
   "source": [
    "# fetching year from time varible \n",
    "time.strftime('%Y')"
   ]
  },
  {
   "cell_type": "code",
   "execution_count": 39,
   "id": "83b4f230",
   "metadata": {},
   "outputs": [
    {
     "data": {
      "text/plain": [
       "'23'"
      ]
     },
     "execution_count": 39,
     "metadata": {},
     "output_type": "execute_result"
    }
   ],
   "source": [
    "# fetching hour from the tome variable\n",
    "time.strftime('%H')"
   ]
  },
  {
   "cell_type": "code",
   "execution_count": 40,
   "id": "29276a51",
   "metadata": {},
   "outputs": [
    {
     "data": {
      "text/plain": [
       "'22'"
      ]
     },
     "execution_count": 40,
     "metadata": {},
     "output_type": "execute_result"
    }
   ],
   "source": [
    "# fetching Minutes from the tome variable\n",
    "time.strftime('%M')"
   ]
  },
  {
   "cell_type": "code",
   "execution_count": 41,
   "id": "579252be",
   "metadata": {},
   "outputs": [
    {
     "data": {
      "text/plain": [
       "'41'"
      ]
     },
     "execution_count": 41,
     "metadata": {},
     "output_type": "execute_result"
    }
   ],
   "source": [
    "# fetching second from the tome variable\n",
    "time.strftime('%S')"
   ]
  },
  {
   "cell_type": "code",
   "execution_count": 42,
   "id": "1522bb19",
   "metadata": {},
   "outputs": [
    {
     "data": {
      "text/plain": [
       "'472106'"
      ]
     },
     "execution_count": 42,
     "metadata": {},
     "output_type": "execute_result"
    }
   ],
   "source": [
    "# fetching microsecond from the tome variable\n",
    "time.strftime('%f')"
   ]
  },
  {
   "cell_type": "code",
   "execution_count": 43,
   "id": "931ba5c4",
   "metadata": {},
   "outputs": [
    {
     "data": {
      "text/plain": [
       "'38'"
      ]
     },
     "execution_count": 43,
     "metadata": {},
     "output_type": "execute_result"
    }
   ],
   "source": [
    "# Fetching the number of week \n",
    "time.strftime('%W')"
   ]
  },
  {
   "cell_type": "code",
   "execution_count": 44,
   "id": "4fc90c88",
   "metadata": {},
   "outputs": [
    {
     "name": "stdout",
     "output_type": "stream",
     "text": [
      "2023-09-22 23:22:41.472106\n"
     ]
    }
   ],
   "source": [
    "# we compare above output to the time variable we get same result \n",
    "print(time)"
   ]
  },
  {
   "cell_type": "code",
   "execution_count": 45,
   "id": "2e8e18aa",
   "metadata": {},
   "outputs": [
    {
     "data": {
      "text/plain": [
       "'09/22/23'"
      ]
     },
     "execution_count": 45,
     "metadata": {},
     "output_type": "execute_result"
    }
   ],
   "source": [
    "# shortcut for the fetching the dattime is  %D  it give dates in / /  manner lets see below \n",
    "time.strftime('%D')"
   ]
  },
  {
   "cell_type": "code",
   "execution_count": 46,
   "id": "52c415ef",
   "metadata": {},
   "outputs": [
    {
     "data": {
      "text/plain": [
       "'2023-09-22'"
      ]
     },
     "execution_count": 46,
     "metadata": {},
     "output_type": "execute_result"
    }
   ],
   "source": [
    "# shortcut for the fetching the dattime is  %F  it give dates in - -   manner lets see below \n",
    "time.strftime('%F')"
   ]
  },
  {
   "cell_type": "markdown",
   "id": "8688928f",
   "metadata": {},
   "source": [
    "# timedelta \n",
    "\n",
    "Represents the difference between two datetime values (as days, seconds, and micro\u0002seconds) by doing minus ,additon and etc"
   ]
  },
  {
   "cell_type": "code",
   "execution_count": 47,
   "id": "ae5b3783",
   "metadata": {},
   "outputs": [],
   "source": [
    "t1=datetime(2022,1,1,8,15)\n",
    "t2=datetime(2023,1,1)"
   ]
  },
  {
   "cell_type": "code",
   "execution_count": 48,
   "id": "334107e7",
   "metadata": {},
   "outputs": [
    {
     "data": {
      "text/plain": [
       "datetime.datetime"
      ]
     },
     "execution_count": 48,
     "metadata": {},
     "output_type": "execute_result"
    }
   ],
   "source": [
    "type(t1)"
   ]
  },
  {
   "cell_type": "code",
   "execution_count": 49,
   "id": "f7d750a6",
   "metadata": {},
   "outputs": [
    {
     "data": {
      "text/plain": [
       "datetime.datetime"
      ]
     },
     "execution_count": 49,
     "metadata": {},
     "output_type": "execute_result"
    }
   ],
   "source": [
    "type(t2)"
   ]
  },
  {
   "cell_type": "code",
   "execution_count": 50,
   "id": "2d37eb9c",
   "metadata": {},
   "outputs": [
    {
     "data": {
      "text/plain": [
       "datetime.timedelta(days=364, seconds=56700)"
      ]
     },
     "execution_count": 50,
     "metadata": {},
     "output_type": "execute_result"
    }
   ],
   "source": [
    "# see time difference between this two t1 and t2\n",
    "result=t2-t1\n",
    "result"
   ]
  },
  {
   "cell_type": "raw",
   "id": "10101f74",
   "metadata": {},
   "source": [
    "As we can see getting difference between two dateand time its automaticaly given timedelta in output"
   ]
  },
  {
   "cell_type": "code",
   "execution_count": 51,
   "id": "867df6e0",
   "metadata": {},
   "outputs": [
    {
     "data": {
      "text/plain": [
       "364"
      ]
     },
     "execution_count": 51,
     "metadata": {},
     "output_type": "execute_result"
    }
   ],
   "source": [
    "result.days"
   ]
  },
  {
   "cell_type": "code",
   "execution_count": 52,
   "id": "f4666794",
   "metadata": {},
   "outputs": [
    {
     "data": {
      "text/plain": [
       "56700"
      ]
     },
     "execution_count": 52,
     "metadata": {},
     "output_type": "execute_result"
    }
   ],
   "source": [
    "result.seconds"
   ]
  },
  {
   "cell_type": "code",
   "execution_count": 53,
   "id": "3a653e1d",
   "metadata": {},
   "outputs": [
    {
     "data": {
      "text/plain": [
       "datetime.timedelta"
      ]
     },
     "execution_count": 53,
     "metadata": {},
     "output_type": "execute_result"
    }
   ],
   "source": [
    "# checking the result data type\n",
    "type(result)"
   ]
  },
  {
   "cell_type": "code",
   "execution_count": 54,
   "id": "35a4979f",
   "metadata": {},
   "outputs": [
    {
     "name": "stdout",
     "output_type": "stream",
     "text": [
      "2023-09-22 23:22:46.250248\n"
     ]
    }
   ],
   "source": [
    "#fetching the current datetime \n",
    "t1=datetime.now()\n",
    "print(t1)"
   ]
  },
  {
   "cell_type": "code",
   "execution_count": 55,
   "id": "90d2c500",
   "metadata": {},
   "outputs": [
    {
     "ename": "TypeError",
     "evalue": "unsupported operand type(s) for +: 'datetime.datetime' and 'int'",
     "output_type": "error",
     "traceback": [
      "\u001b[1;31m---------------------------------------------------------------------------\u001b[0m",
      "\u001b[1;31mTypeError\u001b[0m                                 Traceback (most recent call last)",
      "Input \u001b[1;32mIn [55]\u001b[0m, in \u001b[0;36m<cell line: 2>\u001b[1;34m()\u001b[0m\n\u001b[0;32m      1\u001b[0m \u001b[38;5;66;03m# adding five days in t1 variable \u001b[39;00m\n\u001b[1;32m----> 2\u001b[0m add\u001b[38;5;241m=\u001b[39m\u001b[43mt1\u001b[49m\u001b[38;5;241;43m+\u001b[39;49m\u001b[38;5;241;43m5\u001b[39;49m\n",
      "\u001b[1;31mTypeError\u001b[0m: unsupported operand type(s) for +: 'datetime.datetime' and 'int'"
     ]
    }
   ],
   "source": [
    "# adding five days in t1 variable \n",
    "add=t1+5"
   ]
  },
  {
   "cell_type": "raw",
   "id": "85cc9071",
   "metadata": {},
   "source": [
    "Yes, its give error if we want to add some more days in given day then we have to just import timedelta library "
   ]
  },
  {
   "cell_type": "code",
   "execution_count": 56,
   "id": "18bba27d",
   "metadata": {},
   "outputs": [],
   "source": [
    "from datetime import timedelta\n",
    "add=t1+timedelta(4)"
   ]
  },
  {
   "cell_type": "code",
   "execution_count": 57,
   "id": "38af4757",
   "metadata": {},
   "outputs": [
    {
     "name": "stdout",
     "output_type": "stream",
     "text": [
      "2023-09-26 23:22:46.250248\n"
     ]
    }
   ],
   "source": [
    "print(add)"
   ]
  },
  {
   "cell_type": "raw",
   "id": "5639da7a",
   "metadata": {},
   "source": [
    "As we can see its easily added  and now showing date is 24"
   ]
  },
  {
   "cell_type": "code",
   "execution_count": 58,
   "id": "de4e49b2",
   "metadata": {},
   "outputs": [
    {
     "data": {
      "text/plain": [
       "26"
      ]
     },
     "execution_count": 58,
     "metadata": {},
     "output_type": "execute_result"
    }
   ],
   "source": [
    "# fetching the day from the add variable\n",
    "add.day"
   ]
  },
  {
   "cell_type": "code",
   "execution_count": 59,
   "id": "cad86aed",
   "metadata": {},
   "outputs": [
    {
     "data": {
      "text/plain": [
       "22"
      ]
     },
     "execution_count": 59,
     "metadata": {},
     "output_type": "execute_result"
    }
   ],
   "source": [
    "# fetching the day from the t1 variable\n",
    "\n",
    "t1.day"
   ]
  },
  {
   "cell_type": "code",
   "execution_count": 60,
   "id": "0313e328",
   "metadata": {},
   "outputs": [],
   "source": [
    "# now performing the minus to get the actual days as we are  running four days before\n",
    "diiference=add-t1"
   ]
  },
  {
   "cell_type": "code",
   "execution_count": 61,
   "id": "4075e0e7",
   "metadata": {},
   "outputs": [
    {
     "data": {
      "text/plain": [
       "datetime.timedelta(days=4)"
      ]
     },
     "execution_count": 61,
     "metadata": {},
     "output_type": "execute_result"
    }
   ],
   "source": [
    "diiference"
   ]
  },
  {
   "cell_type": "raw",
   "id": "8138f5e6",
   "metadata": {},
   "source": [
    "In the above all the function are good but there is things to rember a lot , so there is one more library i.e. dateutil.parser import parse in this easily string date can be  formated into datetime object by using parse."
   ]
  },
  {
   "cell_type": "markdown",
   "id": "3fe8999c",
   "metadata": {},
   "source": [
    "# dateutil.parser import parse libary \n",
    "It used to format string date into datetime object like strptime but in strptime we have to write some codes parse is seasier then it.\n",
    "\n",
    "dateutil is capable of parsing almost any human-intelligible date representation:"
   ]
  },
  {
   "cell_type": "code",
   "execution_count": 62,
   "id": "79c9a9cf",
   "metadata": {},
   "outputs": [],
   "source": [
    "# import  dateutil.parse  libaray\n",
    "from dateutil.parser import parse"
   ]
  },
  {
   "cell_type": "code",
   "execution_count": 63,
   "id": "9527ef53",
   "metadata": {},
   "outputs": [
    {
     "data": {
      "text/plain": [
       "datetime.datetime(2023, 9, 20, 0, 0)"
      ]
     },
     "execution_count": 63,
     "metadata": {},
     "output_type": "execute_result"
    }
   ],
   "source": [
    "# using dateutil parse lib\n",
    "parse('20 september 2023')"
   ]
  },
  {
   "cell_type": "code",
   "execution_count": 64,
   "id": "526c59e5",
   "metadata": {},
   "outputs": [],
   "source": [
    "#we can pasre  in variable also\n",
    "date=parse('20 october 2023')"
   ]
  },
  {
   "cell_type": "code",
   "execution_count": 65,
   "id": "f8f9ef5e",
   "metadata": {},
   "outputs": [
    {
     "data": {
      "text/plain": [
       "datetime.datetime(2023, 10, 20, 0, 0)"
      ]
     },
     "execution_count": 65,
     "metadata": {},
     "output_type": "execute_result"
    }
   ],
   "source": [
    "date"
   ]
  },
  {
   "cell_type": "code",
   "execution_count": 66,
   "id": "eaaec7e0",
   "metadata": {},
   "outputs": [
    {
     "data": {
      "text/plain": [
       "datetime.datetime(2015, 7, 4, 0, 0)"
      ]
     },
     "execution_count": 66,
     "metadata": {},
     "output_type": "execute_result"
    }
   ],
   "source": [
    "\n",
    "date = parse(\"4th of July, 2015\")\n",
    "date\n"
   ]
  },
  {
   "cell_type": "code",
   "execution_count": 67,
   "id": "2a418697",
   "metadata": {},
   "outputs": [
    {
     "data": {
      "text/plain": [
       "datetime.datetime"
      ]
     },
     "execution_count": 67,
     "metadata": {},
     "output_type": "execute_result"
    }
   ],
   "source": [
    "# checking the datatype\n",
    "type(date)"
   ]
  },
  {
   "cell_type": "code",
   "execution_count": 68,
   "id": "b5e8b68b",
   "metadata": {},
   "outputs": [
    {
     "data": {
      "text/plain": [
       "'Saturday'"
      ]
     },
     "execution_count": 68,
     "metadata": {},
     "output_type": "execute_result"
    }
   ],
   "source": [
    "date.strftime('%A')"
   ]
  },
  {
   "cell_type": "raw",
   "id": "4566046b",
   "metadata": {},
   "source": [
    "dateutil is capable of parsing almost any human-intelligible date representation: like in timing AM or PM \n"
   ]
  },
  {
   "cell_type": "code",
   "execution_count": 69,
   "id": "6d355425",
   "metadata": {},
   "outputs": [
    {
     "data": {
      "text/plain": [
       "datetime.datetime(2023, 9, 10, 8, 30, 3)"
      ]
     },
     "execution_count": 69,
     "metadata": {},
     "output_type": "execute_result"
    }
   ],
   "source": [
    "# parseing the datetime with am and pm \n",
    "am=parse('10 september 2023 083003 AM')\n",
    "am"
   ]
  },
  {
   "cell_type": "code",
   "execution_count": 70,
   "id": "33d25cb5",
   "metadata": {},
   "outputs": [
    {
     "data": {
      "text/plain": [
       "'Sunday'"
      ]
     },
     "execution_count": 70,
     "metadata": {},
     "output_type": "execute_result"
    }
   ],
   "source": [
    "# fetching the day\n",
    "am.strftime('%A')"
   ]
  },
  {
   "cell_type": "code",
   "execution_count": 71,
   "id": "efc968db",
   "metadata": {},
   "outputs": [
    {
     "data": {
      "text/plain": [
       "'AM'"
      ]
     },
     "execution_count": 71,
     "metadata": {},
     "output_type": "execute_result"
    }
   ],
   "source": [
    "#fetching   whether its pm or am \n",
    "am.strftime('%p')"
   ]
  },
  {
   "cell_type": "code",
   "execution_count": 72,
   "id": "0a467890",
   "metadata": {},
   "outputs": [
    {
     "data": {
      "text/plain": [
       "datetime.datetime(2023, 10, 20, 22, 45)"
      ]
     },
     "execution_count": 72,
     "metadata": {},
     "output_type": "execute_result"
    }
   ],
   "source": [
    "oh=parse(' october 20 2023 10:45 PM')\n",
    "oh"
   ]
  },
  {
   "cell_type": "code",
   "execution_count": 73,
   "id": "45242ba9",
   "metadata": {},
   "outputs": [
    {
     "data": {
      "text/plain": [
       "'Friday'"
      ]
     },
     "execution_count": 73,
     "metadata": {},
     "output_type": "execute_result"
    }
   ],
   "source": [
    "# fetching the am or pm at this time\n",
    "oh.strftime('%A')"
   ]
  },
  {
   "cell_type": "code",
   "execution_count": 74,
   "id": "9e3c061d",
   "metadata": {},
   "outputs": [
    {
     "data": {
      "text/plain": [
       "'Fri Oct 20 22:45:00 2023'"
      ]
     },
     "execution_count": 74,
     "metadata": {},
     "output_type": "execute_result"
    }
   ],
   "source": [
    "# by doing these we can get in local date time reperesenattion\n",
    "oh.strftime('%c')"
   ]
  },
  {
   "cell_type": "raw",
   "id": "33e5b7aa",
   "metadata": {},
   "source": [
    "In international locales, day appearing before month is very common, so you can pass\n",
    "dayfirst=True to indicate this:"
   ]
  },
  {
   "cell_type": "code",
   "execution_count": 75,
   "id": "35d1cd71",
   "metadata": {},
   "outputs": [
    {
     "data": {
      "text/plain": [
       "datetime.datetime(2023, 9, 20, 0, 0)"
      ]
     },
     "execution_count": 75,
     "metadata": {},
     "output_type": "execute_result"
    }
   ],
   "source": [
    "dayfirst=parse('20/09/2023',)\n",
    "dayfirst"
   ]
  },
  {
   "cell_type": "code",
   "execution_count": 76,
   "id": "92657f79",
   "metadata": {},
   "outputs": [
    {
     "data": {
      "text/plain": [
       "datetime.datetime"
      ]
     },
     "execution_count": 76,
     "metadata": {},
     "output_type": "execute_result"
    }
   ],
   "source": [
    "type(dayfirst)"
   ]
  },
  {
   "cell_type": "code",
   "execution_count": 77,
   "id": "4a2e9777",
   "metadata": {},
   "outputs": [
    {
     "data": {
      "text/plain": [
       "datetime.datetime(2023, 9, 20, 0, 0)"
      ]
     },
     "execution_count": 77,
     "metadata": {},
     "output_type": "execute_result"
    }
   ],
   "source": [
    "\n",
    "dayfirst=parse('20/09/2023',dayfirst=True)\n",
    "dayfirst"
   ]
  },
  {
   "cell_type": "markdown",
   "id": "be944120",
   "metadata": {},
   "source": [
    "# Dates and times in Pandas:\n",
    "\n",
    "Timestamp object, which combines the ease of use of datetime and dateutil with the efficient storage.\n",
    "\n",
    "From a group of these Timestamp objects,Pandas can construct a DatetimeIndex that can be used to index data in a Series or\n",
    "DataFrame.\n",
    "\n",
    "For example, we can use Pandas tools to repeat the demonstration from above. We can parse a flexibly formatted string date, and use format codes to output the day of the week\n"
   ]
  },
  {
   "cell_type": "code",
   "execution_count": 78,
   "id": "9bbcd0e0",
   "metadata": {},
   "outputs": [],
   "source": [
    "# Using the pandas tool to demonstrate datetime object\n",
    "import pandas as pd\n"
   ]
  },
  {
   "cell_type": "code",
   "execution_count": 79,
   "id": "96e3a2d4",
   "metadata": {},
   "outputs": [
    {
     "data": {
      "text/plain": [
       "Timestamp('2023-09-20 00:00:00')"
      ]
     },
     "execution_count": 79,
     "metadata": {},
     "output_type": "execute_result"
    }
   ],
   "source": [
    "# using pd.to_datetime() \n",
    "date=pd.to_datetime('20 september 2023')\n",
    "date"
   ]
  },
  {
   "cell_type": "raw",
   "id": "4d714a73",
   "metadata": {},
   "source": [
    "As we see above output it give us time stamp "
   ]
  },
  {
   "cell_type": "code",
   "execution_count": 80,
   "id": "1d49b6a7",
   "metadata": {},
   "outputs": [
    {
     "data": {
      "text/plain": [
       "'Wednesday'"
      ]
     },
     "execution_count": 80,
     "metadata": {},
     "output_type": "execute_result"
    }
   ],
   "source": [
    "# fetching day on above date\n",
    "date.strftime('%A')"
   ]
  },
  {
   "cell_type": "code",
   "execution_count": 81,
   "id": "4f69e872",
   "metadata": {},
   "outputs": [
    {
     "data": {
      "text/plain": [
       "pandas._libs.tslibs.timestamps.Timestamp"
      ]
     },
     "execution_count": 81,
     "metadata": {},
     "output_type": "execute_result"
    }
   ],
   "source": [
    " type(date)"
   ]
  },
  {
   "cell_type": "code",
   "execution_count": 82,
   "id": "7f414f22",
   "metadata": {},
   "outputs": [
    {
     "data": {
      "text/plain": [
       "['20/10/2023', '30/10/2023']"
      ]
     },
     "execution_count": 82,
     "metadata": {},
     "output_type": "execute_result"
    }
   ],
   "source": [
    "t1=['20/10/2023', '30/10/2023']\n",
    "t1"
   ]
  },
  {
   "cell_type": "code",
   "execution_count": 83,
   "id": "2e524610",
   "metadata": {},
   "outputs": [
    {
     "name": "stderr",
     "output_type": "stream",
     "text": [
      "C:\\Users\\Asus\\AppData\\Local\\Temp\\ipykernel_25792\\3917335952.py:1: UserWarning: Parsing '20/10/2023' in DD/MM/YYYY format. Provide format or specify infer_datetime_format=True for consistent parsing.\n",
      "  pd.to_datetime(t1)\n",
      "C:\\Users\\Asus\\AppData\\Local\\Temp\\ipykernel_25792\\3917335952.py:1: UserWarning: Parsing '30/10/2023' in DD/MM/YYYY format. Provide format or specify infer_datetime_format=True for consistent parsing.\n",
      "  pd.to_datetime(t1)\n"
     ]
    },
    {
     "data": {
      "text/plain": [
       "DatetimeIndex(['2023-10-20', '2023-10-30'], dtype='datetime64[ns]', freq=None)"
      ]
     },
     "execution_count": 83,
     "metadata": {},
     "output_type": "execute_result"
    }
   ],
   "source": [
    "pd.to_datetime(t1)\n"
   ]
  },
  {
   "cell_type": "raw",
   "id": "66b8df7f",
   "metadata": {},
   "source": [
    "Giving warning so we have to pass this infer_datetime_format=True"
   ]
  },
  {
   "cell_type": "code",
   "execution_count": 84,
   "id": "13194648",
   "metadata": {},
   "outputs": [
    {
     "data": {
      "text/plain": [
       "DatetimeIndex(['2023-10-20', '2023-10-30'], dtype='datetime64[ns]', freq=None)"
      ]
     },
     "execution_count": 84,
     "metadata": {},
     "output_type": "execute_result"
    }
   ],
   "source": [
    "pd.to_datetime(t1,infer_datetime_format=True)\n"
   ]
  },
  {
   "cell_type": "markdown",
   "id": "8ca0f412",
   "metadata": {},
   "source": [
    "# Pandas Time Series: Indexing by Time\n",
    "\n",
    "Where the Pandas time series tools really become useful is when you begin to index\n",
    "data by timestamps. For example, we can construct a Series object that has time\u0002indexed data:\n"
   ]
  },
  {
   "cell_type": "code",
   "execution_count": 85,
   "id": "9cb290d8",
   "metadata": {},
   "outputs": [
    {
     "name": "stderr",
     "output_type": "stream",
     "text": [
      "C:\\Users\\Asus\\anaconda3\\an\\lib\\site-packages\\pandas\\core\\indexes\\datetimes.py:327: UserWarning: Parsing '20/09/2022' in DD/MM/YYYY format. Provide format or specify infer_datetime_format=True for consistent parsing.\n",
      "  dtarr = DatetimeArray._from_sequence_not_strict(\n",
      "C:\\Users\\Asus\\anaconda3\\an\\lib\\site-packages\\pandas\\core\\indexes\\datetimes.py:327: UserWarning: Parsing '21/09/2022' in DD/MM/YYYY format. Provide format or specify infer_datetime_format=True for consistent parsing.\n",
      "  dtarr = DatetimeArray._from_sequence_not_strict(\n",
      "C:\\Users\\Asus\\anaconda3\\an\\lib\\site-packages\\pandas\\core\\indexes\\datetimes.py:327: UserWarning: Parsing '24/09/2023' in DD/MM/YYYY format. Provide format or specify infer_datetime_format=True for consistent parsing.\n",
      "  dtarr = DatetimeArray._from_sequence_not_strict(\n",
      "C:\\Users\\Asus\\anaconda3\\an\\lib\\site-packages\\pandas\\core\\indexes\\datetimes.py:327: UserWarning: Parsing '25/09/2023' in DD/MM/YYYY format. Provide format or specify infer_datetime_format=True for consistent parsing.\n",
      "  dtarr = DatetimeArray._from_sequence_not_strict(\n"
     ]
    },
    {
     "data": {
      "text/plain": [
       "2022-09-20    1\n",
       "2022-09-21    2\n",
       "2023-09-24    3\n",
       "2023-09-25    4\n",
       "dtype: int64"
      ]
     },
     "execution_count": 85,
     "metadata": {},
     "output_type": "execute_result"
    }
   ],
   "source": [
    "dates=pd.DatetimeIndex(['20/09/2022','21/09/2022',\n",
    "                      '24/09/2023','25/09/2023'])\n",
    "data=pd.Series([1,2,3,4],index=dates)\n",
    "data"
   ]
  },
  {
   "cell_type": "code",
   "execution_count": 86,
   "id": "d9751b88",
   "metadata": {},
   "outputs": [
    {
     "data": {
      "text/plain": [
       "2023-09-24    3\n",
       "2023-09-25    4\n",
       "dtype: int64"
      ]
     },
     "execution_count": 86,
     "metadata": {},
     "output_type": "execute_result"
    }
   ],
   "source": [
    "# slicing the data acording to dates i.e 21 to 25 \n",
    "data['2023-09-21':'2023-09-25']"
   ]
  },
  {
   "cell_type": "code",
   "execution_count": 87,
   "id": "6b9dc85d",
   "metadata": {},
   "outputs": [
    {
     "data": {
      "text/plain": [
       "2023-09-24    3\n",
       "dtype: int64"
      ]
     },
     "execution_count": 87,
     "metadata": {},
     "output_type": "execute_result"
    }
   ],
   "source": [
    "# slicing the data acording to dates i.e 20 to 24\n",
    "data['2023-09-20':'2023-09-24']"
   ]
  },
  {
   "cell_type": "code",
   "execution_count": 88,
   "id": "96be2a3d",
   "metadata": {},
   "outputs": [
    {
     "data": {
      "text/plain": [
       "2023-09-24    3\n",
       "2023-09-25    4\n",
       "dtype: int64"
      ]
     },
     "execution_count": 88,
     "metadata": {},
     "output_type": "execute_result"
    }
   ],
   "source": [
    "# we can slicing the data acc. to year also\n",
    "data['2023']"
   ]
  },
  {
   "cell_type": "code",
   "execution_count": 89,
   "id": "3cd7aa99",
   "metadata": {},
   "outputs": [
    {
     "data": {
      "text/plain": [
       "pandas.core.series.Series"
      ]
     },
     "execution_count": 89,
     "metadata": {},
     "output_type": "execute_result"
    }
   ],
   "source": [
    "# checking the datatype of data\n",
    "type(data)"
   ]
  },
  {
   "cell_type": "code",
   "execution_count": 90,
   "id": "a4cad6d2",
   "metadata": {},
   "outputs": [
    {
     "data": {
      "text/plain": [
       "[datetime.datetime(20, 9, 23, 0, 0),\n",
       " datetime.datetime(21, 10, 23, 0, 0),\n",
       " datetime.datetime(22, 11, 23, 0, 0),\n",
       " datetime.datetime(23, 12, 23, 0, 0)]"
      ]
     },
     "execution_count": 90,
     "metadata": {},
     "output_type": "execute_result"
    }
   ],
   "source": [
    "# now making  a datetime list and storing in a variable datetime\n",
    "from datetime import datetime\n",
    "datetime=([datetime(20,9,23),datetime(21,10,23),datetime(22,11,23),datetime(23,12,23)])\n",
    "datetime"
   ]
  },
  {
   "cell_type": "code",
   "execution_count": 91,
   "id": "5008e3c7",
   "metadata": {},
   "outputs": [
    {
     "data": {
      "text/plain": [
       "list"
      ]
     },
     "execution_count": 91,
     "metadata": {},
     "output_type": "execute_result"
    }
   ],
   "source": [
    "# the datatype is list to cehck we can move further\n",
    "type(datetime)"
   ]
  },
  {
   "cell_type": "code",
   "execution_count": 92,
   "id": "390cce6f",
   "metadata": {},
   "outputs": [
    {
     "ename": "NameError",
     "evalue": "name 'np' is not defined",
     "output_type": "error",
     "traceback": [
      "\u001b[1;31m---------------------------------------------------------------------------\u001b[0m",
      "\u001b[1;31mNameError\u001b[0m                                 Traceback (most recent call last)",
      "Input \u001b[1;32mIn [92]\u001b[0m, in \u001b[0;36m<cell line: 1>\u001b[1;34m()\u001b[0m\n\u001b[1;32m----> 1\u001b[0m series\u001b[38;5;241m=\u001b[39mpd\u001b[38;5;241m.\u001b[39mSeries(\u001b[43mnp\u001b[49m\u001b[38;5;241m.\u001b[39marange(\u001b[38;5;241m4\u001b[39m),index\u001b[38;5;241m=\u001b[39mdatetime)\n\u001b[0;32m      2\u001b[0m series\n",
      "\u001b[1;31mNameError\u001b[0m: name 'np' is not defined"
     ]
    }
   ],
   "source": [
    "\n",
    "series=pd.Series(np.arange(4),index=datetime)\n",
    "series"
   ]
  },
  {
   "cell_type": "code",
   "execution_count": 93,
   "id": "cad13580",
   "metadata": {},
   "outputs": [
    {
     "ename": "NameError",
     "evalue": "name 'series' is not defined",
     "output_type": "error",
     "traceback": [
      "\u001b[1;31m---------------------------------------------------------------------------\u001b[0m",
      "\u001b[1;31mNameError\u001b[0m                                 Traceback (most recent call last)",
      "Input \u001b[1;32mIn [93]\u001b[0m, in \u001b[0;36m<cell line: 2>\u001b[1;34m()\u001b[0m\n\u001b[0;32m      1\u001b[0m \u001b[38;5;66;03m#cecking the datatype of series\u001b[39;00m\n\u001b[1;32m----> 2\u001b[0m \u001b[38;5;28mtype\u001b[39m(\u001b[43mseries\u001b[49m)\n",
      "\u001b[1;31mNameError\u001b[0m: name 'series' is not defined"
     ]
    }
   ],
   "source": [
    "#cecking the datatype of series\n",
    "type(series)"
   ]
  },
  {
   "cell_type": "code",
   "execution_count": 94,
   "id": "2eda216e",
   "metadata": {},
   "outputs": [
    {
     "ename": "NameError",
     "evalue": "name 'series' is not defined",
     "output_type": "error",
     "traceback": [
      "\u001b[1;31m---------------------------------------------------------------------------\u001b[0m",
      "\u001b[1;31mNameError\u001b[0m                                 Traceback (most recent call last)",
      "Input \u001b[1;32mIn [94]\u001b[0m, in \u001b[0;36m<cell line: 1>\u001b[1;34m()\u001b[0m\n\u001b[1;32m----> 1\u001b[0m \u001b[43mseries\u001b[49m\u001b[38;5;241m.\u001b[39mindex\n",
      "\u001b[1;31mNameError\u001b[0m: name 'series' is not defined"
     ]
    }
   ],
   "source": [
    "series.index"
   ]
  },
  {
   "cell_type": "code",
   "execution_count": 95,
   "id": "a414cce3",
   "metadata": {},
   "outputs": [
    {
     "ename": "NameError",
     "evalue": "name 'series' is not defined",
     "output_type": "error",
     "traceback": [
      "\u001b[1;31m---------------------------------------------------------------------------\u001b[0m",
      "\u001b[1;31mNameError\u001b[0m                                 Traceback (most recent call last)",
      "Input \u001b[1;32mIn [95]\u001b[0m, in \u001b[0;36m<cell line: 1>\u001b[1;34m()\u001b[0m\n\u001b[1;32m----> 1\u001b[0m \u001b[43mseries\u001b[49m \u001b[38;5;241m+\u001b[39m series[::\u001b[38;5;241m2\u001b[39m]\n",
      "\u001b[1;31mNameError\u001b[0m: name 'series' is not defined"
     ]
    }
   ],
   "source": [
    " series + series[::2]"
   ]
  },
  {
   "cell_type": "code",
   "execution_count": 96,
   "id": "1f2a1518",
   "metadata": {},
   "outputs": [
    {
     "ename": "NameError",
     "evalue": "name 'series' is not defined",
     "output_type": "error",
     "traceback": [
      "\u001b[1;31m---------------------------------------------------------------------------\u001b[0m",
      "\u001b[1;31mNameError\u001b[0m                                 Traceback (most recent call last)",
      "Input \u001b[1;32mIn [96]\u001b[0m, in \u001b[0;36m<cell line: 1>\u001b[1;34m()\u001b[0m\n\u001b[1;32m----> 1\u001b[0m \u001b[43mseries\u001b[49m\u001b[38;5;241m.\u001b[39mindex\u001b[38;5;241m.\u001b[39mdtype\n",
      "\u001b[1;31mNameError\u001b[0m: name 'series' is not defined"
     ]
    }
   ],
   "source": [
    "series.index.dtype"
   ]
  },
  {
   "cell_type": "markdown",
   "id": "1d1c9e1c",
   "metadata": {},
   "source": [
    "# Pandas  pd.to_datetime()\n",
    "\n",
    "syntax:- Signature:\n",
    "pd.to_datetime(\n",
    "    arg: 'DatetimeScalarOrArrayConvertible',\n",
    "    errors: 'str' = 'raise',\n",
    "    dayfirst: 'bool' = False,\n",
    "    yearfirst: 'bool' = False,\n",
    "    utc: 'bool | None' = None,\n",
    "    format: 'str | None' = None,\n",
    "    exact: 'bool' = True,\n",
    "    unit: 'str | None' = None,\n",
    "    infer_datetime_format: 'bool' = False,\n",
    "    origin='unix',\n",
    "    cache: 'bool' = True,) \n",
    "    \n",
    "    \n",
    " it is very flexible to use in  pd.to_datetime() you can pass any kind of dateformat it will give you in datetimeindex lets see in example\n",
    " "
   ]
  },
  {
   "cell_type": "code",
   "execution_count": 97,
   "id": "f7a02fce",
   "metadata": {},
   "outputs": [
    {
     "data": {
      "text/plain": [
       "['20-09-2023', '4 august 2024', '15 dec 2023', '24/09/23', '20230209']"
      ]
     },
     "metadata": {},
     "output_type": "display_data"
    },
    {
     "data": {
      "text/plain": [
       "list"
      ]
     },
     "metadata": {},
     "output_type": "display_data"
    }
   ],
   "source": [
    "# taking a variable dates which store all the dates in list\n",
    "dates=['20-09-2023','4 august 2024','15 dec 2023','24/09/23','20230209']\n",
    "display(dates,type(dates))"
   ]
  },
  {
   "cell_type": "code",
   "execution_count": 98,
   "id": "4cea4358",
   "metadata": {},
   "outputs": [
    {
     "name": "stderr",
     "output_type": "stream",
     "text": [
      "C:\\Users\\Asus\\AppData\\Local\\Temp\\ipykernel_25792\\3814027801.py:2: UserWarning: Parsing '20-09-2023' in DD/MM/YYYY format. Provide format or specify infer_datetime_format=True for consistent parsing.\n",
      "  datetimeindex=pd.to_datetime(dates)\n"
     ]
    },
    {
     "data": {
      "text/plain": [
       "DatetimeIndex(['2023-09-20', '2024-08-04', '2023-12-15', '2023-09-24',\n",
       "               '2023-02-09'],\n",
       "              dtype='datetime64[ns]', freq=None)"
      ]
     },
     "execution_count": 98,
     "metadata": {},
     "output_type": "execute_result"
    }
   ],
   "source": [
    "# these dates varible passing in  pd.to_datetime() which gives datetimeindex lets see below example\n",
    "datetimeindex=pd.to_datetime(dates)\n",
    "datetimeindex"
   ]
  },
  {
   "cell_type": "raw",
   "id": "ffff630f",
   "metadata": {},
   "source": [
    "As we can see in the above output it has  '20230209','15 dec 2023' type of date into the datetime index"
   ]
  },
  {
   "cell_type": "code",
   "execution_count": 99,
   "id": "50876b80",
   "metadata": {},
   "outputs": [
    {
     "data": {
      "text/plain": [
       "pandas.core.indexes.datetimes.DatetimeIndex"
      ]
     },
     "execution_count": 99,
     "metadata": {},
     "output_type": "execute_result"
    }
   ],
   "source": [
    "# type of data\n",
    "type(datetimeindex)"
   ]
  },
  {
   "cell_type": "raw",
   "id": "0415a0f0",
   "metadata": {},
   "source": [
    "Us we know in US they use mm/dd/yyyy datefromate and in europe they use dd/mm/yyyy dateformat and in india we follow europe datetime fromat\n"
   ]
  },
  {
   "cell_type": "code",
   "execution_count": 100,
   "id": "59bc26fe",
   "metadata": {},
   "outputs": [
    {
     "data": {
      "text/plain": [
       "Timestamp('2023-09-10 00:00:00')"
      ]
     },
     "execution_count": 100,
     "metadata": {},
     "output_type": "execute_result"
    }
   ],
   "source": [
    "# below time format is in mm/dd/yyyy \n",
    "pd.to_datetime('09/10/2023')"
   ]
  },
  {
   "cell_type": "code",
   "execution_count": 101,
   "id": "d4dcf89d",
   "metadata": {},
   "outputs": [
    {
     "data": {
      "text/plain": [
       "Timestamp('2023-10-09 00:00:00')"
      ]
     },
     "execution_count": 101,
     "metadata": {},
     "output_type": "execute_result"
    }
   ],
   "source": [
    "# converting the above datetime format into the dd/mm/yyyy by passing dayfirst=True\n",
    "pd.to_datetime('09/10/2023',dayfirst=True)"
   ]
  },
  {
   "cell_type": "code",
   "execution_count": 102,
   "id": "7481a938",
   "metadata": {},
   "outputs": [
    {
     "name": "stderr",
     "output_type": "stream",
     "text": [
      "C:\\Users\\Asus\\AppData\\Local\\Temp\\ipykernel_25792\\3581391213.py:3: UserWarning: Parsing '20-09-2023' in DD/MM/YYYY format. Provide format or specify infer_datetime_format=True for consistent parsing.\n",
      "  pd.to_datetime(dates)\n"
     ]
    },
    {
     "ename": "ParserError",
     "evalue": "Unknown string format: abc",
     "output_type": "error",
     "traceback": [
      "\u001b[1;31m---------------------------------------------------------------------------\u001b[0m",
      "\u001b[1;31mTypeError\u001b[0m                                 Traceback (most recent call last)",
      "File \u001b[1;32m~\\anaconda3\\an\\lib\\site-packages\\pandas\\core\\arrays\\datetimes.py:2211\u001b[0m, in \u001b[0;36mobjects_to_datetime64ns\u001b[1;34m(data, dayfirst, yearfirst, utc, errors, require_iso8601, allow_object, allow_mixed)\u001b[0m\n\u001b[0;32m   2210\u001b[0m \u001b[38;5;28;01mtry\u001b[39;00m:\n\u001b[1;32m-> 2211\u001b[0m     values, tz_parsed \u001b[38;5;241m=\u001b[39m \u001b[43mconversion\u001b[49m\u001b[38;5;241;43m.\u001b[39;49m\u001b[43mdatetime_to_datetime64\u001b[49m\u001b[43m(\u001b[49m\u001b[43mdata\u001b[49m\u001b[38;5;241;43m.\u001b[39;49m\u001b[43mravel\u001b[49m\u001b[43m(\u001b[49m\u001b[38;5;124;43m\"\u001b[39;49m\u001b[38;5;124;43mK\u001b[39;49m\u001b[38;5;124;43m\"\u001b[39;49m\u001b[43m)\u001b[49m\u001b[43m)\u001b[49m\n\u001b[0;32m   2212\u001b[0m     \u001b[38;5;66;03m# If tzaware, these values represent unix timestamps, so we\u001b[39;00m\n\u001b[0;32m   2213\u001b[0m     \u001b[38;5;66;03m#  return them as i8 to distinguish from wall times\u001b[39;00m\n",
      "File \u001b[1;32m~\\anaconda3\\an\\lib\\site-packages\\pandas\\_libs\\tslibs\\conversion.pyx:360\u001b[0m, in \u001b[0;36mpandas._libs.tslibs.conversion.datetime_to_datetime64\u001b[1;34m()\u001b[0m\n",
      "\u001b[1;31mTypeError\u001b[0m: Unrecognized value type: <class 'str'>",
      "\nDuring handling of the above exception, another exception occurred:\n",
      "\u001b[1;31mParserError\u001b[0m                               Traceback (most recent call last)",
      "Input \u001b[1;32mIn [102]\u001b[0m, in \u001b[0;36m<cell line: 3>\u001b[1;34m()\u001b[0m\n\u001b[0;32m      1\u001b[0m \u001b[38;5;66;03m# we have string in the dates variable then it give variable to \u001b[39;00m\n\u001b[0;32m      2\u001b[0m dates\u001b[38;5;241m=\u001b[39m[\u001b[38;5;124m'\u001b[39m\u001b[38;5;124m20-09-2023\u001b[39m\u001b[38;5;124m'\u001b[39m,\u001b[38;5;124m'\u001b[39m\u001b[38;5;124m4 august 2024\u001b[39m\u001b[38;5;124m'\u001b[39m,\u001b[38;5;124m'\u001b[39m\u001b[38;5;124m15 dec 2023\u001b[39m\u001b[38;5;124m'\u001b[39m,\u001b[38;5;124m'\u001b[39m\u001b[38;5;124m24/09/23\u001b[39m\u001b[38;5;124m'\u001b[39m,\u001b[38;5;124m'\u001b[39m\u001b[38;5;124m20230209\u001b[39m\u001b[38;5;124m'\u001b[39m,\u001b[38;5;124m'\u001b[39m\u001b[38;5;124mabc\u001b[39m\u001b[38;5;124m'\u001b[39m,\u001b[38;5;124m'\u001b[39m\u001b[38;5;124mbhda\u001b[39m\u001b[38;5;124m'\u001b[39m]\n\u001b[1;32m----> 3\u001b[0m \u001b[43mpd\u001b[49m\u001b[38;5;241;43m.\u001b[39;49m\u001b[43mto_datetime\u001b[49m\u001b[43m(\u001b[49m\u001b[43mdates\u001b[49m\u001b[43m)\u001b[49m\n",
      "File \u001b[1;32m~\\anaconda3\\an\\lib\\site-packages\\pandas\\core\\tools\\datetimes.py:1076\u001b[0m, in \u001b[0;36mto_datetime\u001b[1;34m(arg, errors, dayfirst, yearfirst, utc, format, exact, unit, infer_datetime_format, origin, cache)\u001b[0m\n\u001b[0;32m   1074\u001b[0m         result \u001b[38;5;241m=\u001b[39m _convert_and_box_cache(arg, cache_array)\n\u001b[0;32m   1075\u001b[0m     \u001b[38;5;28;01melse\u001b[39;00m:\n\u001b[1;32m-> 1076\u001b[0m         result \u001b[38;5;241m=\u001b[39m \u001b[43mconvert_listlike\u001b[49m\u001b[43m(\u001b[49m\u001b[43marg\u001b[49m\u001b[43m,\u001b[49m\u001b[43m \u001b[49m\u001b[38;5;28;43mformat\u001b[39;49m\u001b[43m)\u001b[49m\n\u001b[0;32m   1077\u001b[0m \u001b[38;5;28;01melse\u001b[39;00m:\n\u001b[0;32m   1078\u001b[0m     result \u001b[38;5;241m=\u001b[39m convert_listlike(np\u001b[38;5;241m.\u001b[39marray([arg]), \u001b[38;5;28mformat\u001b[39m)[\u001b[38;5;241m0\u001b[39m]\n",
      "File \u001b[1;32m~\\anaconda3\\an\\lib\\site-packages\\pandas\\core\\tools\\datetimes.py:402\u001b[0m, in \u001b[0;36m_convert_listlike_datetimes\u001b[1;34m(arg, format, name, tz, unit, errors, infer_datetime_format, dayfirst, yearfirst, exact)\u001b[0m\n\u001b[0;32m    400\u001b[0m \u001b[38;5;28;01massert\u001b[39;00m \u001b[38;5;28mformat\u001b[39m \u001b[38;5;129;01mis\u001b[39;00m \u001b[38;5;28;01mNone\u001b[39;00m \u001b[38;5;129;01mor\u001b[39;00m infer_datetime_format\n\u001b[0;32m    401\u001b[0m utc \u001b[38;5;241m=\u001b[39m tz \u001b[38;5;241m==\u001b[39m \u001b[38;5;124m\"\u001b[39m\u001b[38;5;124mutc\u001b[39m\u001b[38;5;124m\"\u001b[39m\n\u001b[1;32m--> 402\u001b[0m result, tz_parsed \u001b[38;5;241m=\u001b[39m \u001b[43mobjects_to_datetime64ns\u001b[49m\u001b[43m(\u001b[49m\n\u001b[0;32m    403\u001b[0m \u001b[43m    \u001b[49m\u001b[43marg\u001b[49m\u001b[43m,\u001b[49m\n\u001b[0;32m    404\u001b[0m \u001b[43m    \u001b[49m\u001b[43mdayfirst\u001b[49m\u001b[38;5;241;43m=\u001b[39;49m\u001b[43mdayfirst\u001b[49m\u001b[43m,\u001b[49m\n\u001b[0;32m    405\u001b[0m \u001b[43m    \u001b[49m\u001b[43myearfirst\u001b[49m\u001b[38;5;241;43m=\u001b[39;49m\u001b[43myearfirst\u001b[49m\u001b[43m,\u001b[49m\n\u001b[0;32m    406\u001b[0m \u001b[43m    \u001b[49m\u001b[43mutc\u001b[49m\u001b[38;5;241;43m=\u001b[39;49m\u001b[43mutc\u001b[49m\u001b[43m,\u001b[49m\n\u001b[0;32m    407\u001b[0m \u001b[43m    \u001b[49m\u001b[43merrors\u001b[49m\u001b[38;5;241;43m=\u001b[39;49m\u001b[43merrors\u001b[49m\u001b[43m,\u001b[49m\n\u001b[0;32m    408\u001b[0m \u001b[43m    \u001b[49m\u001b[43mrequire_iso8601\u001b[49m\u001b[38;5;241;43m=\u001b[39;49m\u001b[43mrequire_iso8601\u001b[49m\u001b[43m,\u001b[49m\n\u001b[0;32m    409\u001b[0m \u001b[43m    \u001b[49m\u001b[43mallow_object\u001b[49m\u001b[38;5;241;43m=\u001b[39;49m\u001b[38;5;28;43;01mTrue\u001b[39;49;00m\u001b[43m,\u001b[49m\n\u001b[0;32m    410\u001b[0m \u001b[43m\u001b[49m\u001b[43m)\u001b[49m\n\u001b[0;32m    412\u001b[0m \u001b[38;5;28;01mif\u001b[39;00m tz_parsed \u001b[38;5;129;01mis\u001b[39;00m \u001b[38;5;129;01mnot\u001b[39;00m \u001b[38;5;28;01mNone\u001b[39;00m:\n\u001b[0;32m    413\u001b[0m     \u001b[38;5;66;03m# We can take a shortcut since the datetime64 numpy array\u001b[39;00m\n\u001b[0;32m    414\u001b[0m     \u001b[38;5;66;03m# is in UTC\u001b[39;00m\n\u001b[0;32m    415\u001b[0m     dta \u001b[38;5;241m=\u001b[39m DatetimeArray(result, dtype\u001b[38;5;241m=\u001b[39mtz_to_dtype(tz_parsed))\n",
      "File \u001b[1;32m~\\anaconda3\\an\\lib\\site-packages\\pandas\\core\\arrays\\datetimes.py:2217\u001b[0m, in \u001b[0;36mobjects_to_datetime64ns\u001b[1;34m(data, dayfirst, yearfirst, utc, errors, require_iso8601, allow_object, allow_mixed)\u001b[0m\n\u001b[0;32m   2215\u001b[0m         \u001b[38;5;28;01mreturn\u001b[39;00m values\u001b[38;5;241m.\u001b[39mview(\u001b[38;5;124m\"\u001b[39m\u001b[38;5;124mi8\u001b[39m\u001b[38;5;124m\"\u001b[39m), tz_parsed\n\u001b[0;32m   2216\u001b[0m     \u001b[38;5;28;01mexcept\u001b[39;00m (\u001b[38;5;167;01mValueError\u001b[39;00m, \u001b[38;5;167;01mTypeError\u001b[39;00m):\n\u001b[1;32m-> 2217\u001b[0m         \u001b[38;5;28;01mraise\u001b[39;00m err\n\u001b[0;32m   2219\u001b[0m \u001b[38;5;28;01mif\u001b[39;00m tz_parsed \u001b[38;5;129;01mis\u001b[39;00m \u001b[38;5;129;01mnot\u001b[39;00m \u001b[38;5;28;01mNone\u001b[39;00m:\n\u001b[0;32m   2220\u001b[0m     \u001b[38;5;66;03m# We can take a shortcut since the datetime64 numpy array\u001b[39;00m\n\u001b[0;32m   2221\u001b[0m     \u001b[38;5;66;03m#  is in UTC\u001b[39;00m\n\u001b[0;32m   2222\u001b[0m     \u001b[38;5;66;03m# Return i8 values to denote unix timestamps\u001b[39;00m\n\u001b[0;32m   2223\u001b[0m     \u001b[38;5;28;01mreturn\u001b[39;00m result\u001b[38;5;241m.\u001b[39mview(\u001b[38;5;124m\"\u001b[39m\u001b[38;5;124mi8\u001b[39m\u001b[38;5;124m\"\u001b[39m), tz_parsed\n",
      "File \u001b[1;32m~\\anaconda3\\an\\lib\\site-packages\\pandas\\core\\arrays\\datetimes.py:2199\u001b[0m, in \u001b[0;36mobjects_to_datetime64ns\u001b[1;34m(data, dayfirst, yearfirst, utc, errors, require_iso8601, allow_object, allow_mixed)\u001b[0m\n\u001b[0;32m   2197\u001b[0m order: Literal[\u001b[38;5;124m\"\u001b[39m\u001b[38;5;124mF\u001b[39m\u001b[38;5;124m\"\u001b[39m, \u001b[38;5;124m\"\u001b[39m\u001b[38;5;124mC\u001b[39m\u001b[38;5;124m\"\u001b[39m] \u001b[38;5;241m=\u001b[39m \u001b[38;5;124m\"\u001b[39m\u001b[38;5;124mF\u001b[39m\u001b[38;5;124m\"\u001b[39m \u001b[38;5;28;01mif\u001b[39;00m flags\u001b[38;5;241m.\u001b[39mf_contiguous \u001b[38;5;28;01melse\u001b[39;00m \u001b[38;5;124m\"\u001b[39m\u001b[38;5;124mC\u001b[39m\u001b[38;5;124m\"\u001b[39m\n\u001b[0;32m   2198\u001b[0m \u001b[38;5;28;01mtry\u001b[39;00m:\n\u001b[1;32m-> 2199\u001b[0m     result, tz_parsed \u001b[38;5;241m=\u001b[39m \u001b[43mtslib\u001b[49m\u001b[38;5;241;43m.\u001b[39;49m\u001b[43marray_to_datetime\u001b[49m\u001b[43m(\u001b[49m\n\u001b[0;32m   2200\u001b[0m \u001b[43m        \u001b[49m\u001b[43mdata\u001b[49m\u001b[38;5;241;43m.\u001b[39;49m\u001b[43mravel\u001b[49m\u001b[43m(\u001b[49m\u001b[38;5;124;43m\"\u001b[39;49m\u001b[38;5;124;43mK\u001b[39;49m\u001b[38;5;124;43m\"\u001b[39;49m\u001b[43m)\u001b[49m\u001b[43m,\u001b[49m\n\u001b[0;32m   2201\u001b[0m \u001b[43m        \u001b[49m\u001b[43merrors\u001b[49m\u001b[38;5;241;43m=\u001b[39;49m\u001b[43merrors\u001b[49m\u001b[43m,\u001b[49m\n\u001b[0;32m   2202\u001b[0m \u001b[43m        \u001b[49m\u001b[43mutc\u001b[49m\u001b[38;5;241;43m=\u001b[39;49m\u001b[43mutc\u001b[49m\u001b[43m,\u001b[49m\n\u001b[0;32m   2203\u001b[0m \u001b[43m        \u001b[49m\u001b[43mdayfirst\u001b[49m\u001b[38;5;241;43m=\u001b[39;49m\u001b[43mdayfirst\u001b[49m\u001b[43m,\u001b[49m\n\u001b[0;32m   2204\u001b[0m \u001b[43m        \u001b[49m\u001b[43myearfirst\u001b[49m\u001b[38;5;241;43m=\u001b[39;49m\u001b[43myearfirst\u001b[49m\u001b[43m,\u001b[49m\n\u001b[0;32m   2205\u001b[0m \u001b[43m        \u001b[49m\u001b[43mrequire_iso8601\u001b[49m\u001b[38;5;241;43m=\u001b[39;49m\u001b[43mrequire_iso8601\u001b[49m\u001b[43m,\u001b[49m\n\u001b[0;32m   2206\u001b[0m \u001b[43m        \u001b[49m\u001b[43mallow_mixed\u001b[49m\u001b[38;5;241;43m=\u001b[39;49m\u001b[43mallow_mixed\u001b[49m\u001b[43m,\u001b[49m\n\u001b[0;32m   2207\u001b[0m \u001b[43m    \u001b[49m\u001b[43m)\u001b[49m\n\u001b[0;32m   2208\u001b[0m     result \u001b[38;5;241m=\u001b[39m result\u001b[38;5;241m.\u001b[39mreshape(data\u001b[38;5;241m.\u001b[39mshape, order\u001b[38;5;241m=\u001b[39morder)\n\u001b[0;32m   2209\u001b[0m \u001b[38;5;28;01mexcept\u001b[39;00m \u001b[38;5;167;01mValueError\u001b[39;00m \u001b[38;5;28;01mas\u001b[39;00m err:\n",
      "File \u001b[1;32m~\\anaconda3\\an\\lib\\site-packages\\pandas\\_libs\\tslib.pyx:381\u001b[0m, in \u001b[0;36mpandas._libs.tslib.array_to_datetime\u001b[1;34m()\u001b[0m\n",
      "File \u001b[1;32m~\\anaconda3\\an\\lib\\site-packages\\pandas\\_libs\\tslib.pyx:613\u001b[0m, in \u001b[0;36mpandas._libs.tslib.array_to_datetime\u001b[1;34m()\u001b[0m\n",
      "File \u001b[1;32m~\\anaconda3\\an\\lib\\site-packages\\pandas\\_libs\\tslib.pyx:751\u001b[0m, in \u001b[0;36mpandas._libs.tslib._array_to_datetime_object\u001b[1;34m()\u001b[0m\n",
      "File \u001b[1;32m~\\anaconda3\\an\\lib\\site-packages\\pandas\\_libs\\tslib.pyx:742\u001b[0m, in \u001b[0;36mpandas._libs.tslib._array_to_datetime_object\u001b[1;34m()\u001b[0m\n",
      "File \u001b[1;32m~\\anaconda3\\an\\lib\\site-packages\\pandas\\_libs\\tslibs\\parsing.pyx:281\u001b[0m, in \u001b[0;36mpandas._libs.tslibs.parsing.parse_datetime_string\u001b[1;34m()\u001b[0m\n",
      "File \u001b[1;32m~\\anaconda3\\an\\lib\\site-packages\\dateutil\\parser\\_parser.py:1368\u001b[0m, in \u001b[0;36mparse\u001b[1;34m(timestr, parserinfo, **kwargs)\u001b[0m\n\u001b[0;32m   1366\u001b[0m     \u001b[38;5;28;01mreturn\u001b[39;00m parser(parserinfo)\u001b[38;5;241m.\u001b[39mparse(timestr, \u001b[38;5;241m*\u001b[39m\u001b[38;5;241m*\u001b[39mkwargs)\n\u001b[0;32m   1367\u001b[0m \u001b[38;5;28;01melse\u001b[39;00m:\n\u001b[1;32m-> 1368\u001b[0m     \u001b[38;5;28;01mreturn\u001b[39;00m DEFAULTPARSER\u001b[38;5;241m.\u001b[39mparse(timestr, \u001b[38;5;241m*\u001b[39m\u001b[38;5;241m*\u001b[39mkwargs)\n",
      "File \u001b[1;32m~\\anaconda3\\an\\lib\\site-packages\\dateutil\\parser\\_parser.py:643\u001b[0m, in \u001b[0;36mparser.parse\u001b[1;34m(self, timestr, default, ignoretz, tzinfos, **kwargs)\u001b[0m\n\u001b[0;32m    640\u001b[0m res, skipped_tokens \u001b[38;5;241m=\u001b[39m \u001b[38;5;28mself\u001b[39m\u001b[38;5;241m.\u001b[39m_parse(timestr, \u001b[38;5;241m*\u001b[39m\u001b[38;5;241m*\u001b[39mkwargs)\n\u001b[0;32m    642\u001b[0m \u001b[38;5;28;01mif\u001b[39;00m res \u001b[38;5;129;01mis\u001b[39;00m \u001b[38;5;28;01mNone\u001b[39;00m:\n\u001b[1;32m--> 643\u001b[0m     \u001b[38;5;28;01mraise\u001b[39;00m ParserError(\u001b[38;5;124m\"\u001b[39m\u001b[38;5;124mUnknown string format: \u001b[39m\u001b[38;5;132;01m%s\u001b[39;00m\u001b[38;5;124m\"\u001b[39m, timestr)\n\u001b[0;32m    645\u001b[0m \u001b[38;5;28;01mif\u001b[39;00m \u001b[38;5;28mlen\u001b[39m(res) \u001b[38;5;241m==\u001b[39m \u001b[38;5;241m0\u001b[39m:\n\u001b[0;32m    646\u001b[0m     \u001b[38;5;28;01mraise\u001b[39;00m ParserError(\u001b[38;5;124m\"\u001b[39m\u001b[38;5;124mString does not contain a date: \u001b[39m\u001b[38;5;132;01m%s\u001b[39;00m\u001b[38;5;124m\"\u001b[39m, timestr)\n",
      "\u001b[1;31mParserError\u001b[0m: Unknown string format: abc"
     ]
    }
   ],
   "source": [
    "# we have string in the dates variable then it give variable to \n",
    "dates=['20-09-2023','4 august 2024','15 dec 2023','24/09/23','20230209','abc','bhda']\n",
    "pd.to_datetime(dates)"
   ]
  },
  {
   "cell_type": "raw",
   "id": "6c7415ad",
   "metadata": {},
   "source": [
    "As we mentine in the comment it will give an error it has given an error also to deal with this type of error we simply pass the errors=coerce lets see in the below exapmle "
   ]
  },
  {
   "cell_type": "code",
   "execution_count": null,
   "id": "3bfbf56e",
   "metadata": {},
   "outputs": [],
   "source": [
    "pd.to_datetime(dates,errors='coerce')"
   ]
  },
  {
   "cell_type": "raw",
   "id": "c9a68f3c",
   "metadata": {},
   "source": [
    "See as we have mentioned it has given an Nat value that is NaT which is not a time it is equalvalent to NaN not a number "
   ]
  },
  {
   "cell_type": "markdown",
   "id": "c51937bf",
   "metadata": {},
   "source": [
    "# pd.to_period() function \n",
    "\n",
    "Any DatetimeIndex can be converted to a PeriodIndex with the to_period() func‐tion with the addition of a frequency code; here we’ll use 'D' to indicate daily frequency:\n",
    "\n",
    "it mean by passing the week days in to_period() we can get days on that date "
   ]
  },
  {
   "cell_type": "code",
   "execution_count": 103,
   "id": "699651bb",
   "metadata": {},
   "outputs": [
    {
     "data": {
      "text/plain": [
       "['230425', '12 september 2023', 'dhh']"
      ]
     },
     "execution_count": 103,
     "metadata": {},
     "output_type": "execute_result"
    }
   ],
   "source": [
    "# created a new variable to deall with period\n",
    "newdate=['230425','12 september 2023','dhh']\n",
    "newdate"
   ]
  },
  {
   "cell_type": "code",
   "execution_count": 104,
   "id": "a9bf4f36",
   "metadata": {},
   "outputs": [
    {
     "data": {
      "text/plain": [
       "DatetimeIndex(['2025-04-23', '2023-09-12', 'NaT'], dtype='datetime64[ns]', freq=None)"
      ]
     },
     "execution_count": 104,
     "metadata": {},
     "output_type": "execute_result"
    }
   ],
   "source": [
    "pd.to_datetime(newdate,errors='coerce')"
   ]
  },
  {
   "cell_type": "code",
   "execution_count": 105,
   "id": "e0add14a",
   "metadata": {},
   "outputs": [
    {
     "ename": "AttributeError",
     "evalue": "'list' object has no attribute 'to_period'",
     "output_type": "error",
     "traceback": [
      "\u001b[1;31m---------------------------------------------------------------------------\u001b[0m",
      "\u001b[1;31mAttributeError\u001b[0m                            Traceback (most recent call last)",
      "Input \u001b[1;32mIn [105]\u001b[0m, in \u001b[0;36m<cell line: 2>\u001b[1;34m()\u001b[0m\n\u001b[0;32m      1\u001b[0m \u001b[38;5;66;03m# using .to_period()\u001b[39;00m\n\u001b[1;32m----> 2\u001b[0m \u001b[43mdates\u001b[49m\u001b[38;5;241;43m.\u001b[39;49m\u001b[43mto_period\u001b[49m(\u001b[38;5;124m'\u001b[39m\u001b[38;5;124mD\u001b[39m\u001b[38;5;124m'\u001b[39m)\n",
      "\u001b[1;31mAttributeError\u001b[0m: 'list' object has no attribute 'to_period'"
     ]
    }
   ],
   "source": [
    "# using .to_period()\n",
    "dates.to_period('D')"
   ]
  },
  {
   "cell_type": "code",
   "execution_count": 106,
   "id": "c06ca584",
   "metadata": {},
   "outputs": [
    {
     "ename": "AttributeError",
     "evalue": "'list' object has no attribute 'to_period'",
     "output_type": "error",
     "traceback": [
      "\u001b[1;31m---------------------------------------------------------------------------\u001b[0m",
      "\u001b[1;31mAttributeError\u001b[0m                            Traceback (most recent call last)",
      "Input \u001b[1;32mIn [106]\u001b[0m, in \u001b[0;36m<cell line: 2>\u001b[1;34m()\u001b[0m\n\u001b[0;32m      1\u001b[0m \u001b[38;5;66;03m# here it will extract year and month\u001b[39;00m\n\u001b[1;32m----> 2\u001b[0m \u001b[43mdates\u001b[49m\u001b[38;5;241;43m.\u001b[39;49m\u001b[43mto_period\u001b[49m(\u001b[38;5;124m'\u001b[39m\u001b[38;5;124mM\u001b[39m\u001b[38;5;124m'\u001b[39m)\n",
      "\u001b[1;31mAttributeError\u001b[0m: 'list' object has no attribute 'to_period'"
     ]
    }
   ],
   "source": [
    "# here it will extract year and month\n",
    "dates.to_period('M')"
   ]
  },
  {
   "cell_type": "code",
   "execution_count": 107,
   "id": "576a0831",
   "metadata": {},
   "outputs": [
    {
     "ename": "AttributeError",
     "evalue": "'list' object has no attribute 'to_period'",
     "output_type": "error",
     "traceback": [
      "\u001b[1;31m---------------------------------------------------------------------------\u001b[0m",
      "\u001b[1;31mAttributeError\u001b[0m                            Traceback (most recent call last)",
      "Input \u001b[1;32mIn [107]\u001b[0m, in \u001b[0;36m<cell line: 2>\u001b[1;34m()\u001b[0m\n\u001b[0;32m      1\u001b[0m \u001b[38;5;66;03m# here it will  extract year\u001b[39;00m\n\u001b[1;32m----> 2\u001b[0m \u001b[43mdates\u001b[49m\u001b[38;5;241;43m.\u001b[39;49m\u001b[43mto_period\u001b[49m(\u001b[38;5;124m'\u001b[39m\u001b[38;5;124mY\u001b[39m\u001b[38;5;124m'\u001b[39m)\n",
      "\u001b[1;31mAttributeError\u001b[0m: 'list' object has no attribute 'to_period'"
     ]
    }
   ],
   "source": [
    "# here it will  extract year\n",
    "dates.to_period('Y')"
   ]
  },
  {
   "cell_type": "markdown",
   "id": "87206a97",
   "metadata": {},
   "source": [
    "# Regular sequences: pd.date_range()\n",
    "\n",
    "pd.date_range() is used to provide range of the date by passing start and endpoint it will also work by providing startpoint and period period an dby default its give frequency in 'D' that is days.\n",
    "\n",
    "syntax pd.date_range(\n",
    "    start=None,\n",
    "    end=None,\n",
    "    periods=None,\n",
    "    freq=None,\n",
    "    tz=None,\n",
    "    normalize: 'bool' = False,\n",
    "    name: 'Hashable' = None,\n",
    "    closed: 'str | None | lib.NoDefault' = <no_default>,\n",
    "    inclusive: 'str | None' = None,\n",
    "    **kwargs,\n",
    ") "
   ]
  },
  {
   "cell_type": "code",
   "execution_count": 108,
   "id": "d380c3da",
   "metadata": {},
   "outputs": [
    {
     "data": {
      "text/plain": [
       "DatetimeIndex(['2023-09-21', '2023-09-22', '2023-09-23', '2023-09-24',\n",
       "               '2023-09-25', '2023-09-26', '2023-09-27', '2023-09-28',\n",
       "               '2023-09-29', '2023-09-30'],\n",
       "              dtype='datetime64[ns]', freq='D')"
      ]
     },
     "execution_count": 108,
     "metadata": {},
     "output_type": "execute_result"
    }
   ],
   "source": [
    "# using pd.date_range function for the date\n",
    "range=pd.date_range(start='21/09/23', end='30/09/23')\n",
    "range"
   ]
  },
  {
   "cell_type": "code",
   "execution_count": 109,
   "id": "2a83be48",
   "metadata": {},
   "outputs": [
    {
     "data": {
      "text/plain": [
       "pandas.core.indexes.datetimes.DatetimeIndex"
      ]
     },
     "execution_count": 109,
     "metadata": {},
     "output_type": "execute_result"
    }
   ],
   "source": [
    "# checking the data type \n",
    "type(range)"
   ]
  },
  {
   "cell_type": "raw",
   "id": "e24b201c",
   "metadata": {},
   "source": [
    "Alternatively, the date range can be specified not with a start- and endpoint, but with\n",
    "a startpoint and a number of periods:\n",
    "\n",
    "By passing periods we can get number of day"
   ]
  },
  {
   "cell_type": "code",
   "execution_count": 110,
   "id": "ebeca5f0",
   "metadata": {},
   "outputs": [
    {
     "data": {
      "text/plain": [
       "DatetimeIndex(['2023-09-21', '2023-09-22', '2023-09-23', '2023-09-24',\n",
       "               '2023-09-25', '2023-09-26', '2023-09-27', '2023-09-28',\n",
       "               '2023-09-29', '2023-09-30'],\n",
       "              dtype='datetime64[ns]', freq='D')"
      ]
     },
     "execution_count": 110,
     "metadata": {},
     "output_type": "execute_result"
    }
   ],
   "source": [
    "# making use of periods \n",
    "pd.date_range('21/09/23', periods=10)"
   ]
  },
  {
   "cell_type": "raw",
   "id": "3a9f38c5",
   "metadata": {},
   "source": [
    "You can modify the spacing by altering the freq argument, which defaults to D. For\n",
    "example, here we will construct a range of hourly timestamps:"
   ]
  },
  {
   "cell_type": "code",
   "execution_count": 111,
   "id": "6114ed0d",
   "metadata": {},
   "outputs": [
    {
     "data": {
      "text/plain": [
       "DatetimeIndex(['2023-09-21 00:00:00', '2023-09-21 01:00:00',\n",
       "               '2023-09-21 02:00:00', '2023-09-21 03:00:00',\n",
       "               '2023-09-21 04:00:00'],\n",
       "              dtype='datetime64[ns]', freq='H')"
      ]
     },
     "execution_count": 111,
     "metadata": {},
     "output_type": "execute_result"
    }
   ],
   "source": [
    "# using freq in hours \n",
    "pd.date_range('21/09/23',periods=5,freq='H')"
   ]
  },
  {
   "cell_type": "code",
   "execution_count": 112,
   "id": "37624e79",
   "metadata": {},
   "outputs": [
    {
     "data": {
      "text/plain": [
       "DatetimeIndex(['2023-12-31', '2024-12-31', '2025-12-31', '2026-12-31'], dtype='datetime64[ns]', freq='A-DEC')"
      ]
     },
     "execution_count": 112,
     "metadata": {},
     "output_type": "execute_result"
    }
   ],
   "source": [
    "# using freq to get year\n",
    "pd.date_range('21/09/23',periods=4,freq='Y')\n"
   ]
  },
  {
   "cell_type": "raw",
   "id": "58af6a40",
   "metadata": {},
   "source": [
    "To create regular sequences of period or time delta values, the very similar\n",
    "pd.period_range() and pd.timedelta_range() functions are useful. Here are some\n",
    "monthly periods:\n",
    "    \n",
    "regular sequence mean in form of same date as you have passed at  the startpoint it will create in same sequence using pd.period_range()"
   ]
  },
  {
   "cell_type": "code",
   "execution_count": 113,
   "id": "2d9805f1",
   "metadata": {},
   "outputs": [
    {
     "data": {
      "text/plain": [
       "DatetimeIndex(['2023-01-31', '2023-02-28', '2023-03-31', '2023-04-28',\n",
       "               '2023-05-31', '2023-06-30', '2023-07-31', '2023-08-31',\n",
       "               '2023-09-29', '2023-10-31', '2023-11-30', '2023-12-29'],\n",
       "              dtype='datetime64[ns]', freq='BM')"
      ]
     },
     "execution_count": 113,
     "metadata": {},
     "output_type": "execute_result"
    }
   ],
   "source": [
    "# getting only business end of month by passing 'BM' in freq it will extract only from the end of month day i.e last working day from everymonthhe first moth and 31 from the next month\n",
    "pd.date_range('1/1/23','1/1/24',freq='BM')"
   ]
  },
  {
   "cell_type": "raw",
   "id": "025a53a3",
   "metadata": {},
   "source": [
    "Simply it will extract lastday from the every month"
   ]
  },
  {
   "cell_type": "raw",
   "id": "7e9a3d86",
   "metadata": {},
   "source": [
    "date_range by default preserves the time (if any) of the start or end timestamp\n",
    "\n",
    "Basically it take same time whatever in the start or endpoint"
   ]
  },
  {
   "cell_type": "code",
   "execution_count": 114,
   "id": "8434143d",
   "metadata": {},
   "outputs": [
    {
     "data": {
      "text/plain": [
       "DatetimeIndex(['2023-09-21 09:30:02', '2023-09-22 09:30:02',\n",
       "               '2023-09-23 09:30:02', '2023-09-24 09:30:02',\n",
       "               '2023-09-25 09:30:02', '2023-09-26 09:30:02',\n",
       "               '2023-09-27 09:30:02', '2023-09-28 09:30:02',\n",
       "               '2023-09-29 09:30:02'],\n",
       "              dtype='datetime64[ns]', freq='D')"
      ]
     },
     "execution_count": 114,
     "metadata": {},
     "output_type": "execute_result"
    }
   ],
   "source": [
    "# showing that date_range() preserve time from the given end or startingpoitn \n",
    "pd.date_range('21/09/23 9:30:02 ','30/09/23')"
   ]
  },
  {
   "cell_type": "code",
   "execution_count": 115,
   "id": "872debf9",
   "metadata": {},
   "outputs": [
    {
     "data": {
      "text/plain": [
       "DatetimeIndex(['2023-09-21 10:06:08', '2023-09-22 10:06:08',\n",
       "               '2023-09-23 10:06:08', '2023-09-24 10:06:08',\n",
       "               '2023-09-25 10:06:08', '2023-09-26 10:06:08',\n",
       "               '2023-09-27 10:06:08', '2023-09-28 10:06:08',\n",
       "               '2023-09-29 10:06:08'],\n",
       "              dtype='datetime64[ns]', freq='D')"
      ]
     },
     "execution_count": 115,
     "metadata": {},
     "output_type": "execute_result"
    }
   ],
   "source": [
    "pd.date_range('21/09/23 10:6:8','30/09/23')"
   ]
  },
  {
   "cell_type": "code",
   "execution_count": 116,
   "id": "34ca05f8",
   "metadata": {},
   "outputs": [
    {
     "data": {
      "text/plain": [
       "DatetimeIndex(['2023-01-31', '2023-03-31', '2023-05-31', '2023-07-31',\n",
       "               '2023-09-30', '2023-11-30'],\n",
       "              dtype='datetime64[ns]', freq='2M')"
      ]
     },
     "execution_count": 116,
     "metadata": {},
     "output_type": "execute_result"
    }
   ],
   "source": [
    "# fetching the last day of everymonth  2 months \n",
    "pd.date_range('01/09/23',periods=6,freq='2M')"
   ]
  },
  {
   "cell_type": "code",
   "execution_count": 117,
   "id": "39a4a4ff",
   "metadata": {},
   "outputs": [
    {
     "data": {
      "text/plain": [
       "DatetimeIndex(['2023-10-09 00:00:00+09:00', '2023-10-10 00:00:00+09:00',\n",
       "               '2023-10-11 00:00:00+09:00', '2023-10-12 00:00:00+09:00',\n",
       "               '2023-10-13 00:00:00+09:00', '2023-10-14 00:00:00+09:00',\n",
       "               '2023-10-15 00:00:00+09:00', '2023-10-16 00:00:00+09:00',\n",
       "               '2023-10-17 00:00:00+09:00', '2023-10-18 00:00:00+09:00'],\n",
       "              dtype='datetime64[ns, Asia/Tokyo]', freq='D')"
      ]
     },
     "execution_count": 117,
     "metadata": {},
     "output_type": "execute_result"
    }
   ],
   "source": [
    "# getting a time zon by passing in  tz  i.e time zone\n",
    "pd.date_range('10/9/23', periods=10,tz='Asia/Tokyo')"
   ]
  },
  {
   "cell_type": "raw",
   "id": "f426b5ac",
   "metadata": {},
   "source": [
    "Sometimes you will have start or end dates with time information but want to generate\n",
    "a set of timestamps normalized to midnight as a convention. To do this, there is a\n",
    "normalize option:"
   ]
  },
  {
   "cell_type": "code",
   "execution_count": 118,
   "id": "3b3e51e8",
   "metadata": {},
   "outputs": [
    {
     "data": {
      "text/plain": [
       "DatetimeIndex(['2012-09-21', '2012-09-22', '2012-09-23', '2012-09-24',\n",
       "               '2012-09-25'],\n",
       "              dtype='datetime64[ns]', freq='D')"
      ]
     },
     "execution_count": 118,
     "metadata": {},
     "output_type": "execute_result"
    }
   ],
   "source": [
    "# using normalize \n",
    "\n",
    "pd.date_range('21/09/2012 12:56:31', periods=5, normalize=True)\n"
   ]
  },
  {
   "cell_type": "markdown",
   "id": "5576398c",
   "metadata": {},
   "source": [
    "# pd.period_range()\n",
    "\n",
    "To create regular sequences of period or time delta values, the very similar\n",
    "pd.period_range() and pd.timedelta_range() functions are useful.\n",
    "\n",
    "\n",
    "sytnax pd.period_range(\n",
    "    start=None,\n",
    "    end=None,\n",
    "    periods: 'int | None' = None,\n",
    "    freq=None,\n",
    "    name=None,\n",
    ") "
   ]
  },
  {
   "cell_type": "code",
   "execution_count": 119,
   "id": "8138d32c",
   "metadata": {},
   "outputs": [
    {
     "data": {
      "text/plain": [
       "PeriodIndex(['2023', '2024', '2025', '2026', '2027', '2028', '2029', '2030',\n",
       "             '2031', '2032'],\n",
       "            dtype='period[A-DEC]')"
      ]
     },
     "execution_count": 119,
     "metadata": {},
     "output_type": "execute_result"
    }
   ],
   "source": [
    "# creating a regular sequence\n",
    "pd.period_range('2023/09',periods=10, freq='Y')\n"
   ]
  },
  {
   "cell_type": "raw",
   "id": "cf31083f",
   "metadata": {},
   "source": [
    "we can see in the output its in a regular sequence manner at freq Y and its  has given only year rather then whole date which is good its a benefits of using pd.period_range we can change our freqas we want or wish"
   ]
  },
  {
   "cell_type": "code",
   "execution_count": 120,
   "id": "840886c2",
   "metadata": {},
   "outputs": [
    {
     "data": {
      "text/plain": [
       "PeriodIndex(['2023-09', '2023-10', '2023-11', '2023-12', '2024-01', '2024-02',\n",
       "             '2024-03', '2024-04'],\n",
       "            dtype='period[M]')"
      ]
     },
     "execution_count": 120,
     "metadata": {},
     "output_type": "execute_result"
    }
   ],
   "source": [
    "# creating a regular sequence with months\n",
    "pd.period_range('2023-09', periods=8, freq='M')"
   ]
  },
  {
   "cell_type": "raw",
   "id": "9e367ec9",
   "metadata": {},
   "source": [
    "using pd.timedelta_range we can get  a sequence of durations increasing by an hour: \n",
    "\n",
    "Basically it will give us duration between the dates periods."
   ]
  },
  {
   "cell_type": "code",
   "execution_count": 121,
   "id": "8ca63c8c",
   "metadata": {},
   "outputs": [
    {
     "data": {
      "text/plain": [
       "TimedeltaIndex(['0 days 00:00:00', '0 days 01:00:00', '0 days 02:00:00',\n",
       "                '0 days 03:00:00', '0 days 04:00:00', '0 days 05:00:00',\n",
       "                '0 days 06:00:00', '0 days 07:00:00'],\n",
       "               dtype='timedelta64[ns]', freq='H')"
      ]
     },
     "execution_count": 121,
     "metadata": {},
     "output_type": "execute_result"
    }
   ],
   "source": [
    "# pd.timedelta_range() performing\n",
    "pd.timedelta_range('0',periods=8,freq='H')"
   ]
  },
  {
   "cell_type": "code",
   "execution_count": 122,
   "id": "e8d1ae3b",
   "metadata": {},
   "outputs": [
    {
     "data": {
      "text/plain": [
       "PeriodIndex(['2021', '2022', '2023', '2024', '2025', '2026', '2027', '2028',\n",
       "             '2029', '2030', '2031', '2032'],\n",
       "            dtype='period[A-DEC]')"
      ]
     },
     "execution_count": 122,
     "metadata": {},
     "output_type": "execute_result"
    }
   ],
   "source": [
    "#getting year \n",
    "pd.period_range('2021/09/5',freq='Y',periods=12)"
   ]
  },
  {
   "cell_type": "code",
   "execution_count": 123,
   "id": "00a9e2b1",
   "metadata": {},
   "outputs": [
    {
     "data": {
      "text/plain": [
       "PeriodIndex(['2021Q3', '2021Q4', '2022Q1', '2022Q2', '2022Q3', '2022Q4',\n",
       "             '2023Q1', '2023Q2', '2023Q3', '2023Q4', '2024Q1', '2024Q2'],\n",
       "            dtype='period[Q-DEC]')"
      ]
     },
     "execution_count": 123,
     "metadata": {},
     "output_type": "execute_result"
    }
   ],
   "source": [
    "# getting Quarter wise \n",
    "pd.period_range('2021/09/5',freq='Q',periods=12)"
   ]
  },
  {
   "cell_type": "code",
   "execution_count": 124,
   "id": "e0248e22",
   "metadata": {},
   "outputs": [
    {
     "data": {
      "text/plain": [
       "PeriodIndex(['2023-03', '2023-04', '2023-05', '2023-06'], dtype='period[M]')"
      ]
     },
     "execution_count": 124,
     "metadata": {},
     "output_type": "execute_result"
    }
   ],
   "source": [
    "# fetching  months from the quarter months\n",
    "pd.period_range(pd.Period('2023Q1',freq='Q'),pd.Period('2023Q2',freq='Q'),freq='M')"
   ]
  },
  {
   "cell_type": "markdown",
   "id": "8d09a7b0",
   "metadata": {},
   "source": [
    "# Frequencies and Date Offsets\n",
    "\n",
    "In this we can see what else can we pass more in freq parameter using date_range()\n"
   ]
  },
  {
   "cell_type": "code",
   "execution_count": 125,
   "id": "79c73089",
   "metadata": {
    "scrolled": true
   },
   "outputs": [
    {
     "data": {
      "text/plain": [
       "DatetimeIndex(['2023-09-21 00:00:00', '2023-09-21 04:00:00',\n",
       "               '2023-09-21 08:00:00', '2023-09-21 12:00:00',\n",
       "               '2023-09-21 16:00:00', '2023-09-21 20:00:00',\n",
       "               '2023-09-22 00:00:00', '2023-09-22 04:00:00'],\n",
       "              dtype='datetime64[ns]', freq='4H')"
      ]
     },
     "execution_count": 125,
     "metadata": {},
     "output_type": "execute_result"
    }
   ],
   "source": [
    "# getting the diffrence of 4 hours  between datetime  \n",
    "pd.date_range('21/09/23', periods=8,freq='4H')"
   ]
  },
  {
   "cell_type": "code",
   "execution_count": 126,
   "id": "8aa7d889",
   "metadata": {},
   "outputs": [
    {
     "data": {
      "text/plain": [
       "DatetimeIndex(['2023-09-21 00:00:00', '2023-09-21 02:10:00',\n",
       "               '2023-09-21 04:20:00', '2023-09-21 06:30:00',\n",
       "               '2023-09-21 08:40:00', '2023-09-21 10:50:00',\n",
       "               '2023-09-21 13:00:00', '2023-09-21 15:10:00'],\n",
       "              dtype='datetime64[ns]', freq='130T')"
      ]
     },
     "execution_count": 126,
     "metadata": {},
     "output_type": "execute_result"
    }
   ],
   "source": [
    "# getting the diffrence of 130 min between datetime  \n",
    "\n",
    "pd.date_range('21/09/23', periods=8,freq='130min')"
   ]
  },
  {
   "cell_type": "code",
   "execution_count": 127,
   "id": "a45d6375",
   "metadata": {},
   "outputs": [
    {
     "data": {
      "text/plain": [
       "DatetimeIndex(['2023-09-22', '2023-10-27', '2023-11-24', '2023-12-22',\n",
       "               '2024-01-26', '2024-02-23', '2024-03-22', '2024-04-26'],\n",
       "              dtype='datetime64[ns]', freq='WOM-4FRI')"
      ]
     },
     "execution_count": 127,
     "metadata": {},
     "output_type": "execute_result"
    }
   ],
   "source": [
    "# using  passing freqWOM it will give week of the month \n",
    "pd.date_range('21/09/23', periods=8,freq=' WOM-4Fri')"
   ]
  },
  {
   "cell_type": "markdown",
   "id": "fd4c0396",
   "metadata": {},
   "source": [
    "# Shifting (Leading and Lagging) Data\n",
    "\n",
    "In Shifting (Leading and Lagging) Data  we make use of shift().\n",
    "\n",
    "Shift()method is used for moving data backward and forward through time.\n",
    "\n",
    "Both Series and DataFrame have a shift method for doing naive shifts forward or backward.\n",
    "\n",
    "syntax:\n",
    "okay12.shift(\n",
    "    periods=1,\n",
    "    freq: 'Frequency | None' = None,\n",
    "    axis: 'Axis' = 0,\n",
    "    fill_value=<no_default>,) "
   ]
  },
  {
   "cell_type": "code",
   "execution_count": 128,
   "id": "c0a47930",
   "metadata": {},
   "outputs": [
    {
     "data": {
      "text/plain": [
       "DatetimeIndex(['2023-09-23', '2023-09-24', '2023-09-25', '2023-09-26',\n",
       "               '2023-09-27', '2023-09-28', '2023-09-29', '2023-09-30',\n",
       "               '2023-10-01', '2023-10-02'],\n",
       "              dtype='datetime64[ns]', freq='D')"
      ]
     },
     "execution_count": 128,
     "metadata": {},
     "output_type": "execute_result"
    }
   ],
   "source": [
    "# genrating date range using through  pd.date_range() method\n",
    "\n",
    "shift=pd.date_range(start='23/09/23', periods=10)\n",
    "shift"
   ]
  },
  {
   "cell_type": "code",
   "execution_count": 129,
   "id": "aa4d1f15",
   "metadata": {
    "scrolled": true
   },
   "outputs": [
    {
     "data": {
      "text/html": [
       "<div>\n",
       "<style scoped>\n",
       "    .dataframe tbody tr th:only-of-type {\n",
       "        vertical-align: middle;\n",
       "    }\n",
       "\n",
       "    .dataframe tbody tr th {\n",
       "        vertical-align: top;\n",
       "    }\n",
       "\n",
       "    .dataframe thead th {\n",
       "        text-align: right;\n",
       "    }\n",
       "</style>\n",
       "<table border=\"1\" class=\"dataframe\">\n",
       "  <thead>\n",
       "    <tr style=\"text-align: right;\">\n",
       "      <th></th>\n",
       "      <th>Price</th>\n",
       "    </tr>\n",
       "  </thead>\n",
       "  <tbody>\n",
       "    <tr>\n",
       "      <th>2023-09-23</th>\n",
       "      <td>120</td>\n",
       "    </tr>\n",
       "    <tr>\n",
       "      <th>2023-09-24</th>\n",
       "      <td>13</td>\n",
       "    </tr>\n",
       "    <tr>\n",
       "      <th>2023-09-25</th>\n",
       "      <td>1400</td>\n",
       "    </tr>\n",
       "    <tr>\n",
       "      <th>2023-09-26</th>\n",
       "      <td>250</td>\n",
       "    </tr>\n",
       "    <tr>\n",
       "      <th>2023-09-27</th>\n",
       "      <td>34</td>\n",
       "    </tr>\n",
       "    <tr>\n",
       "      <th>2023-09-28</th>\n",
       "      <td>21</td>\n",
       "    </tr>\n",
       "    <tr>\n",
       "      <th>2023-09-29</th>\n",
       "      <td>400</td>\n",
       "    </tr>\n",
       "    <tr>\n",
       "      <th>2023-09-30</th>\n",
       "      <td>560</td>\n",
       "    </tr>\n",
       "    <tr>\n",
       "      <th>2023-10-01</th>\n",
       "      <td>23</td>\n",
       "    </tr>\n",
       "    <tr>\n",
       "      <th>2023-10-02</th>\n",
       "      <td>9000</td>\n",
       "    </tr>\n",
       "  </tbody>\n",
       "</table>\n",
       "</div>"
      ],
      "text/plain": [
       "            Price\n",
       "2023-09-23    120\n",
       "2023-09-24     13\n",
       "2023-09-25   1400\n",
       "2023-09-26    250\n",
       "2023-09-27     34\n",
       "2023-09-28     21\n",
       "2023-09-29    400\n",
       "2023-09-30    560\n",
       "2023-10-01     23\n",
       "2023-10-02   9000"
      ]
     },
     "execution_count": 129,
     "metadata": {},
     "output_type": "execute_result"
    }
   ],
   "source": [
    "# creating a dataframe \n",
    "hey=pd.DataFrame({'Price':[120,13,1400,250,34,21,400,560,23,9000]})\n",
    "okay12=hey.set_index(shift)\n",
    "okay12"
   ]
  },
  {
   "cell_type": "code",
   "execution_count": 130,
   "id": "4c170efb",
   "metadata": {},
   "outputs": [
    {
     "data": {
      "text/html": [
       "<div>\n",
       "<style scoped>\n",
       "    .dataframe tbody tr th:only-of-type {\n",
       "        vertical-align: middle;\n",
       "    }\n",
       "\n",
       "    .dataframe tbody tr th {\n",
       "        vertical-align: top;\n",
       "    }\n",
       "\n",
       "    .dataframe thead th {\n",
       "        text-align: right;\n",
       "    }\n",
       "</style>\n",
       "<table border=\"1\" class=\"dataframe\">\n",
       "  <thead>\n",
       "    <tr style=\"text-align: right;\">\n",
       "      <th></th>\n",
       "      <th>Price</th>\n",
       "    </tr>\n",
       "  </thead>\n",
       "  <tbody>\n",
       "    <tr>\n",
       "      <th>2023-09-23</th>\n",
       "      <td>NaN</td>\n",
       "    </tr>\n",
       "    <tr>\n",
       "      <th>2023-09-24</th>\n",
       "      <td>120.0</td>\n",
       "    </tr>\n",
       "    <tr>\n",
       "      <th>2023-09-25</th>\n",
       "      <td>13.0</td>\n",
       "    </tr>\n",
       "    <tr>\n",
       "      <th>2023-09-26</th>\n",
       "      <td>1400.0</td>\n",
       "    </tr>\n",
       "    <tr>\n",
       "      <th>2023-09-27</th>\n",
       "      <td>250.0</td>\n",
       "    </tr>\n",
       "    <tr>\n",
       "      <th>2023-09-28</th>\n",
       "      <td>34.0</td>\n",
       "    </tr>\n",
       "    <tr>\n",
       "      <th>2023-09-29</th>\n",
       "      <td>21.0</td>\n",
       "    </tr>\n",
       "    <tr>\n",
       "      <th>2023-09-30</th>\n",
       "      <td>400.0</td>\n",
       "    </tr>\n",
       "    <tr>\n",
       "      <th>2023-10-01</th>\n",
       "      <td>560.0</td>\n",
       "    </tr>\n",
       "    <tr>\n",
       "      <th>2023-10-02</th>\n",
       "      <td>23.0</td>\n",
       "    </tr>\n",
       "  </tbody>\n",
       "</table>\n",
       "</div>"
      ],
      "text/plain": [
       "             Price\n",
       "2023-09-23     NaN\n",
       "2023-09-24   120.0\n",
       "2023-09-25    13.0\n",
       "2023-09-26  1400.0\n",
       "2023-09-27   250.0\n",
       "2023-09-28    34.0\n",
       "2023-09-29    21.0\n",
       "2023-09-30   400.0\n",
       "2023-10-01   560.0\n",
       "2023-10-02    23.0"
      ]
     },
     "execution_count": 130,
     "metadata": {},
     "output_type": "execute_result"
    }
   ],
   "source": [
    "# now shifting the price\n",
    "okay12.shift(1)"
   ]
  },
  {
   "cell_type": "raw",
   "id": "fb3606b0",
   "metadata": {},
   "source": [
    "The above shifting is in the forward direction if we want do do shifting in the backward direction then we have to pass simply shift(-1) instead of shift(1).\n",
    "\n",
    "We can also shift 2 steps by simply passing 2 in the shift() method like shift(2)"
   ]
  },
  {
   "cell_type": "code",
   "execution_count": 131,
   "id": "1cfd1854",
   "metadata": {},
   "outputs": [
    {
     "data": {
      "text/html": [
       "<div>\n",
       "<style scoped>\n",
       "    .dataframe tbody tr th:only-of-type {\n",
       "        vertical-align: middle;\n",
       "    }\n",
       "\n",
       "    .dataframe tbody tr th {\n",
       "        vertical-align: top;\n",
       "    }\n",
       "\n",
       "    .dataframe thead th {\n",
       "        text-align: right;\n",
       "    }\n",
       "</style>\n",
       "<table border=\"1\" class=\"dataframe\">\n",
       "  <thead>\n",
       "    <tr style=\"text-align: right;\">\n",
       "      <th></th>\n",
       "      <th>Price</th>\n",
       "    </tr>\n",
       "  </thead>\n",
       "  <tbody>\n",
       "    <tr>\n",
       "      <th>2023-09-23</th>\n",
       "      <td>NaN</td>\n",
       "    </tr>\n",
       "    <tr>\n",
       "      <th>2023-09-24</th>\n",
       "      <td>NaN</td>\n",
       "    </tr>\n",
       "    <tr>\n",
       "      <th>2023-09-25</th>\n",
       "      <td>120.0</td>\n",
       "    </tr>\n",
       "    <tr>\n",
       "      <th>2023-09-26</th>\n",
       "      <td>13.0</td>\n",
       "    </tr>\n",
       "    <tr>\n",
       "      <th>2023-09-27</th>\n",
       "      <td>1400.0</td>\n",
       "    </tr>\n",
       "    <tr>\n",
       "      <th>2023-09-28</th>\n",
       "      <td>250.0</td>\n",
       "    </tr>\n",
       "    <tr>\n",
       "      <th>2023-09-29</th>\n",
       "      <td>34.0</td>\n",
       "    </tr>\n",
       "    <tr>\n",
       "      <th>2023-09-30</th>\n",
       "      <td>21.0</td>\n",
       "    </tr>\n",
       "    <tr>\n",
       "      <th>2023-10-01</th>\n",
       "      <td>400.0</td>\n",
       "    </tr>\n",
       "    <tr>\n",
       "      <th>2023-10-02</th>\n",
       "      <td>560.0</td>\n",
       "    </tr>\n",
       "  </tbody>\n",
       "</table>\n",
       "</div>"
      ],
      "text/plain": [
       "             Price\n",
       "2023-09-23     NaN\n",
       "2023-09-24     NaN\n",
       "2023-09-25   120.0\n",
       "2023-09-26    13.0\n",
       "2023-09-27  1400.0\n",
       "2023-09-28   250.0\n",
       "2023-09-29    34.0\n",
       "2023-09-30    21.0\n",
       "2023-10-01   400.0\n",
       "2023-10-02   560.0"
      ]
     },
     "execution_count": 131,
     "metadata": {},
     "output_type": "execute_result"
    }
   ],
   "source": [
    "# shifting the price to step forward \n",
    "okay12.shift(2)"
   ]
  },
  {
   "cell_type": "raw",
   "id": "2982387d",
   "metadata": {},
   "source": [
    "As result we can see its forwarded two step down as you compare with okay1 df then you will see that whatever price on first index 120 after doing shifting two step down at index 3 yo can see 120 is shifted at index 3. "
   ]
  },
  {
   "cell_type": "code",
   "execution_count": 132,
   "id": "217586a8",
   "metadata": {},
   "outputs": [
    {
     "data": {
      "text/html": [
       "<div>\n",
       "<style scoped>\n",
       "    .dataframe tbody tr th:only-of-type {\n",
       "        vertical-align: middle;\n",
       "    }\n",
       "\n",
       "    .dataframe tbody tr th {\n",
       "        vertical-align: top;\n",
       "    }\n",
       "\n",
       "    .dataframe thead th {\n",
       "        text-align: right;\n",
       "    }\n",
       "</style>\n",
       "<table border=\"1\" class=\"dataframe\">\n",
       "  <thead>\n",
       "    <tr style=\"text-align: right;\">\n",
       "      <th></th>\n",
       "      <th>Price</th>\n",
       "    </tr>\n",
       "  </thead>\n",
       "  <tbody>\n",
       "    <tr>\n",
       "      <th>2023-09-23</th>\n",
       "      <td>13.0</td>\n",
       "    </tr>\n",
       "    <tr>\n",
       "      <th>2023-09-24</th>\n",
       "      <td>1400.0</td>\n",
       "    </tr>\n",
       "    <tr>\n",
       "      <th>2023-09-25</th>\n",
       "      <td>250.0</td>\n",
       "    </tr>\n",
       "    <tr>\n",
       "      <th>2023-09-26</th>\n",
       "      <td>34.0</td>\n",
       "    </tr>\n",
       "    <tr>\n",
       "      <th>2023-09-27</th>\n",
       "      <td>21.0</td>\n",
       "    </tr>\n",
       "    <tr>\n",
       "      <th>2023-09-28</th>\n",
       "      <td>400.0</td>\n",
       "    </tr>\n",
       "    <tr>\n",
       "      <th>2023-09-29</th>\n",
       "      <td>560.0</td>\n",
       "    </tr>\n",
       "    <tr>\n",
       "      <th>2023-09-30</th>\n",
       "      <td>23.0</td>\n",
       "    </tr>\n",
       "    <tr>\n",
       "      <th>2023-10-01</th>\n",
       "      <td>9000.0</td>\n",
       "    </tr>\n",
       "    <tr>\n",
       "      <th>2023-10-02</th>\n",
       "      <td>NaN</td>\n",
       "    </tr>\n",
       "  </tbody>\n",
       "</table>\n",
       "</div>"
      ],
      "text/plain": [
       "             Price\n",
       "2023-09-23    13.0\n",
       "2023-09-24  1400.0\n",
       "2023-09-25   250.0\n",
       "2023-09-26    34.0\n",
       "2023-09-27    21.0\n",
       "2023-09-28   400.0\n",
       "2023-09-29   560.0\n",
       "2023-09-30    23.0\n",
       "2023-10-01  9000.0\n",
       "2023-10-02     NaN"
      ]
     },
     "execution_count": 132,
     "metadata": {},
     "output_type": "execute_result"
    }
   ],
   "source": [
    "# now using the backward steps \n",
    "okay12.shift(-1)"
   ]
  },
  {
   "cell_type": "raw",
   "id": "988852aa",
   "metadata": {},
   "source": [
    "As backward shift is vice versa of  the forward shift as we can see we have shifted one step backward at last index if you see in output the price column is shifted towards upper side ."
   ]
  },
  {
   "cell_type": "code",
   "execution_count": null,
   "id": "81cb2946",
   "metadata": {},
   "outputs": [],
   "source": [
    "okay12.shift(-2)"
   ]
  },
  {
   "cell_type": "code",
   "execution_count": null,
   "id": "e1df5b14",
   "metadata": {},
   "outputs": [],
   "source": [
    "# adding one more column in okay1 df\n",
    "okay12['Forward steps']=okay12.shift(1)"
   ]
  },
  {
   "cell_type": "code",
   "execution_count": null,
   "id": "5c9c872f",
   "metadata": {},
   "outputs": [],
   "source": [
    "okay12"
   ]
  },
  {
   "cell_type": "code",
   "execution_count": null,
   "id": "79407422",
   "metadata": {},
   "outputs": [],
   "source": [
    "okay12['Forward steps']=okay12['Price'].shift(2)\n",
    "okay12"
   ]
  },
  {
   "cell_type": "code",
   "execution_count": null,
   "id": "6ec78b62",
   "metadata": {},
   "outputs": [],
   "source": [
    "okay12['Forward steps']=okay12['Price'].shift(5)\n",
    "okay12"
   ]
  },
  {
   "cell_type": "code",
   "execution_count": null,
   "id": "4453c4cb",
   "metadata": {},
   "outputs": [],
   "source": [
    "# adding one more column for the backward direction steps\n",
    "okay12['backward steps']=okay12['Price'].shift(-1)\n",
    "okay12"
   ]
  },
  {
   "cell_type": "code",
   "execution_count": null,
   "id": "3e7032ba",
   "metadata": {},
   "outputs": [],
   "source": [
    "okay12['backward steps']=okay12['Price'].shift(-2)\n",
    "okay12"
   ]
  },
  {
   "cell_type": "code",
   "execution_count": null,
   "id": "d758cbb2",
   "metadata": {},
   "outputs": [],
   "source": [
    "okay12['backward steps']=okay12['Price'].shift(-5)\n",
    "okay12"
   ]
  },
  {
   "cell_type": "markdown",
   "id": "f70e1e6d",
   "metadata": {},
   "source": [
    "# while passing in freq parameter it will do changes in the index"
   ]
  },
  {
   "cell_type": "raw",
   "id": "6ef4778b",
   "metadata": {},
   "source": [
    "As if we pass any date offeset in the freq then it will change in the index values for more information visit this link\n",
    "https://pandas.pydata.org/docs/reference/api/pandas.DataFrame.shift.html"
   ]
  },
  {
   "cell_type": "code",
   "execution_count": null,
   "id": "296a1d8b",
   "metadata": {},
   "outputs": [],
   "source": [
    "# extracting the month end in each month and as i ahve explainedd it will  show changes in the index\n",
    "change_month=okay12.shift(1,freq='M')\n",
    "display(change_month,okay12)"
   ]
  },
  {
   "cell_type": "code",
   "execution_count": null,
   "id": "6ef51422",
   "metadata": {},
   "outputs": [],
   "source": [
    "#Extracting the  Month start i.e first date of  months \n",
    "okay12.shift(2,freq='MS')"
   ]
  },
  {
   "cell_type": "code",
   "execution_count": null,
   "id": "cb2a512b",
   "metadata": {},
   "outputs": [],
   "source": [
    "# extracting the QS Quarter start\n",
    "okay12.shift(3,freq='QS')"
   ]
  },
  {
   "cell_type": "code",
   "execution_count": null,
   "id": "0e6d75c2",
   "metadata": {},
   "outputs": [],
   "source": [
    "# extracting the W-SUN week sunday\n",
    "okay12.shift(1,freq='W-SUN')"
   ]
  },
  {
   "cell_type": "code",
   "execution_count": null,
   "id": "37cd7e4b",
   "metadata": {},
   "outputs": [],
   "source": [
    "# extracting the time 1:30 i.e 90T\n",
    "okay12.shift(1,freq='90T')"
   ]
  },
  {
   "cell_type": "code",
   "execution_count": null,
   "id": "1d5c3122",
   "metadata": {},
   "outputs": [],
   "source": [
    "okay12.shift(1,freq='120T')"
   ]
  },
  {
   "cell_type": "code",
   "execution_count": null,
   "id": "2bce1579",
   "metadata": {},
   "outputs": [],
   "source": []
  },
  {
   "cell_type": "markdown",
   "id": "d8938e7a",
   "metadata": {},
   "source": [
    "# Shifting dates with offsets\n",
    "\n",
    "The pandas date offsets can also be used with datetime or Timestamp objects:\n",
    "\n",
    "A DateOffset is an object that represents a standard kind of date increment. For example, you could use a DateOffset to represent the fact that you want to increment a date by one day, one week, or one year. DateOffsets are similar to relativedelta objects in that they can be used to specify keyword args like “days,” “weeks,” or “years.”\n"
   ]
  },
  {
   "cell_type": "code",
   "execution_count": null,
   "id": "ba7f529b",
   "metadata": {},
   "outputs": [],
   "source": [
    "# fetching current time\n",
    "from datetime import datetime\n",
    "time=datetime.now()\n",
    "time"
   ]
  },
  {
   "cell_type": "code",
   "execution_count": null,
   "id": "bc1f3b72",
   "metadata": {
    "scrolled": true
   },
   "outputs": [],
   "source": [
    "time.strftime('%A')"
   ]
  },
  {
   "cell_type": "code",
   "execution_count": null,
   "id": "a1f5c085",
   "metadata": {},
   "outputs": [],
   "source": [
    "# importing from pandas.tseries.offsets import Day, MonthEnd\n",
    "from pandas.tseries.offsets import*\n"
   ]
  },
  {
   "cell_type": "code",
   "execution_count": null,
   "id": "5796fb9f",
   "metadata": {},
   "outputs": [],
   "source": [
    "# shifting the day to next working day bussines day \n",
    "now=time+3*Day()\n",
    "now"
   ]
  },
  {
   "cell_type": "code",
   "execution_count": null,
   "id": "95e74651",
   "metadata": {},
   "outputs": [],
   "source": [
    "now.day_name()"
   ]
  },
  {
   "cell_type": "raw",
   "id": "4efed994",
   "metadata": {},
   "source": [
    "As we know today is friday tommorow is weekend so we have simply added three days in the the so it has benn given nex upcoming working day or bussines day."
   ]
  },
  {
   "cell_type": "code",
   "execution_count": null,
   "id": "819e9b9e",
   "metadata": {},
   "outputs": [],
   "source": [
    "# shifting the day to next working day bussines day \n",
    "now=time+4*Day()\n",
    "now"
   ]
  },
  {
   "cell_type": "code",
   "execution_count": null,
   "id": "a9b49eee",
   "metadata": {},
   "outputs": [],
   "source": [
    "now.day_name()"
   ]
  },
  {
   "cell_type": "code",
   "execution_count": null,
   "id": "74732947",
   "metadata": {},
   "outputs": [],
   "source": [
    "# shifting the  hours of time at 1 hrs forward  \n",
    "now=time+Hour()\n",
    "now"
   ]
  },
  {
   "cell_type": "raw",
   "id": "a0b2ddc3",
   "metadata": {},
   "source": [
    "If you match time with time variable then you absorb that hours has been moved to 1 hrs"
   ]
  },
  {
   "cell_type": "code",
   "execution_count": null,
   "id": "5844caed",
   "metadata": {},
   "outputs": [],
   "source": [
    "# shifting the  hours of time at 2 hrs forward  \n",
    "now=time+Hour(2)\n",
    "now"
   ]
  },
  {
   "cell_type": "code",
   "execution_count": null,
   "id": "8755df92",
   "metadata": {},
   "outputs": [],
   "source": [
    "# shifting the  hours of time at 2 hrs backward from the current time \n",
    "now=time+Hour(-2)\n",
    "now"
   ]
  },
  {
   "cell_type": "code",
   "execution_count": null,
   "id": "fbeaaabc",
   "metadata": {},
   "outputs": [],
   "source": [
    "# shifting the two minutes from the current time  minutes  \n",
    "now=time+Minute(2)\n",
    "now"
   ]
  },
  {
   "cell_type": "code",
   "execution_count": null,
   "id": "3c9dc47c",
   "metadata": {},
   "outputs": [],
   "source": [
    "# shifting the  two second from the current time  seconds  \n",
    "now=time+Second(2)\n",
    "now"
   ]
  },
  {
   "cell_type": "code",
   "execution_count": null,
   "id": "7d9a4a11",
   "metadata": {},
   "outputs": [],
   "source": [
    "# shifting the to the next from the month  \n",
    "\n",
    "now=time+MonthEnd()\n",
    "now"
   ]
  },
  {
   "cell_type": "markdown",
   "id": "146767ee",
   "metadata": {},
   "source": [
    "# making use of rollback and rollforward "
   ]
  },
  {
   "cell_type": "code",
   "execution_count": null,
   "id": "180a578a",
   "metadata": {},
   "outputs": [],
   "source": [
    "dates=datetime(2023,9,22)"
   ]
  },
  {
   "cell_type": "code",
   "execution_count": null,
   "id": "7516c412",
   "metadata": {},
   "outputs": [],
   "source": [
    "type(dates)"
   ]
  },
  {
   "cell_type": "code",
   "execution_count": null,
   "id": "6c17c918",
   "metadata": {},
   "outputs": [],
   "source": [
    "# shifting the to the 2 month from the current  month  \n",
    "\n",
    "hey=dates+MonthEnd(2)\n",
    "hey"
   ]
  },
  {
   "cell_type": "code",
   "execution_count": null,
   "id": "c5b640bc",
   "metadata": {},
   "outputs": [],
   "source": [
    "hey.month_name()"
   ]
  },
  {
   "cell_type": "code",
   "execution_count": null,
   "id": "556922be",
   "metadata": {},
   "outputs": [],
   "source": [
    " # using the rollback and roll forward to do same things \n",
    "take=datetime.now()\n",
    "take"
   ]
  },
  {
   "cell_type": "code",
   "execution_count": null,
   "id": "33ee4288",
   "metadata": {},
   "outputs": [],
   "source": [
    "take.strftime('%A')"
   ]
  },
  {
   "cell_type": "code",
   "execution_count": null,
   "id": "b5fdb68a",
   "metadata": {},
   "outputs": [],
   "source": [
    "# forwarding  monthEnd using rollforward\n",
    "end=pd.offsets.MonthEnd().rollforward(take)\n",
    "end"
   ]
  },
  {
   "cell_type": "code",
   "execution_count": null,
   "id": "02c2e394",
   "metadata": {},
   "outputs": [],
   "source": [
    "# forwarding the  month to next begining of the moth  MonthBegin from the current to next month \n",
    "\n",
    "next=pd.offsets.MonthBegin().rollforward(take)\n",
    "next"
   ]
  },
  {
   "cell_type": "code",
   "execution_count": null,
   "id": "563e8cde",
   "metadata": {},
   "outputs": [],
   "source": [
    "# forwarding the weekof month next month \n",
    "Week=pd.offsets.WeekOfMonth().rollforward(take)\n",
    "Week"
   ]
  },
  {
   "cell_type": "markdown",
   "id": "9947e7f0",
   "metadata": {},
   "source": [
    "# Using rollbackward"
   ]
  },
  {
   "cell_type": "code",
   "execution_count": null,
   "id": "66411106",
   "metadata": {},
   "outputs": [],
   "source": [
    "next=pd.offsets.MonthBegin().rollback(take)\n",
    "next"
   ]
  },
  {
   "cell_type": "code",
   "execution_count": null,
   "id": "26002552",
   "metadata": {},
   "outputs": [],
   "source": [
    "hrs=pd.offsets.MonthEnd().rollback(take)\n",
    "hrs"
   ]
  },
  {
   "cell_type": "markdown",
   "id": "77d1c932",
   "metadata": {},
   "source": [
    "# Periods and Period Arithmetic\n",
    "\n",
    "Periods represent time spans, like days, months, quarters, or years. The Period class\n",
    "represents this data type, requiring a string or integer and a frequency \n"
   ]
  },
  {
   "cell_type": "code",
   "execution_count": null,
   "id": "9ad50a62",
   "metadata": {
    "scrolled": false
   },
   "outputs": [],
   "source": [
    "# making a period of annuals \n",
    "\n",
    "annual=pd.Period('2023',freq='A-DEC')\n",
    "annual"
   ]
  },
  {
   "cell_type": "code",
   "execution_count": null,
   "id": "1f19b0d5",
   "metadata": {},
   "outputs": [],
   "source": [
    "type(annual)"
   ]
  },
  {
   "cell_type": "raw",
   "id": "42b22216",
   "metadata": {},
   "source": [
    "the 'A-DEC' means that the period is annual, which ends in December."
   ]
  },
  {
   "cell_type": "raw",
   "id": "93af7f47",
   "metadata": {},
   "source": [
    "We can increase or decrease the periods of the freqency  by performing the arthmetic operation .\n",
    "\n",
    "If two periods have the same frequency, their difference is the number of units between\n",
    "\n",
    "for example suppose we have two periods we can do minus then there is changes in the unit only because the frequecncy is same \n",
    "\n",
    "2015-2020=5 the 5 is number of  units "
   ]
  },
  {
   "cell_type": "code",
   "execution_count": null,
   "id": "6b48d34c",
   "metadata": {},
   "outputs": [],
   "source": [
    "# increasing the number of periods \n",
    "\n",
    "annual+5"
   ]
  },
  {
   "cell_type": "code",
   "execution_count": null,
   "id": "4a0946ac",
   "metadata": {},
   "outputs": [],
   "source": [
    "# decreasing the number of periods \n",
    "\n",
    "annual-3\n"
   ]
  },
  {
   "cell_type": "code",
   "execution_count": 14,
   "id": "7676422e",
   "metadata": {},
   "outputs": [
    {
     "ename": "NameError",
     "evalue": "name 'pd' is not defined",
     "output_type": "error",
     "traceback": [
      "\u001b[1;31m---------------------------------------------------------------------------\u001b[0m",
      "\u001b[1;31mNameError\u001b[0m                                 Traceback (most recent call last)",
      "Input \u001b[1;32mIn [14]\u001b[0m, in \u001b[0;36m<cell line: 3>\u001b[1;34m()\u001b[0m\n\u001b[0;32m      1\u001b[0m \u001b[38;5;66;03m# make one more period to show diference unit number it is year gap in two periods\u001b[39;00m\n\u001b[1;32m----> 3\u001b[0m hey\u001b[38;5;241m=\u001b[39m\u001b[43mpd\u001b[49m\u001b[38;5;241m.\u001b[39mPeriod(\u001b[38;5;124m'\u001b[39m\u001b[38;5;124m2030\u001b[39m\u001b[38;5;124m'\u001b[39m,freq\u001b[38;5;241m=\u001b[39m\u001b[38;5;124m'\u001b[39m\u001b[38;5;124mA-DEC\u001b[39m\u001b[38;5;124m'\u001b[39m)\u001b[38;5;241m-\u001b[39mannual\n\u001b[0;32m      4\u001b[0m hey\n",
      "\u001b[1;31mNameError\u001b[0m: name 'pd' is not defined"
     ]
    }
   ],
   "source": [
    "# make one more period to show diference unit number it is year gap in two periods\n",
    "\n",
    "hey=pd.Period('2030',freq='A-DEC')-annual\n",
    "hey"
   ]
  },
  {
   "cell_type": "code",
   "execution_count": null,
   "id": "4e276c00",
   "metadata": {},
   "outputs": [],
   "source": [
    "type(hey)"
   ]
  },
  {
   "cell_type": "markdown",
   "id": "1f77bc32",
   "metadata": {},
   "source": [
    "# PeriodIndex\n",
    "\n",
    "The PeriodIndex class stores a sequence of periods and can serve as an axis index in\n",
    "any pandas data structure:\n",
    "\n",
    "To make periodindex first we have to make series using  nummpy and  then  we have to pass  periodindex as a index  "
   ]
  },
  {
   "cell_type": "code",
   "execution_count": null,
   "id": "ce5498b9",
   "metadata": {},
   "outputs": [],
   "source": [
    "# creating a period range using pd.period_range()\n",
    "range=pd.period_range('2023/09/1',periods=10)\n",
    "range"
   ]
  },
  {
   "cell_type": "code",
   "execution_count": null,
   "id": "cf22141e",
   "metadata": {},
   "outputs": [],
   "source": [
    "# making a index of range variable\n",
    "import numpy as np\n",
    "index=pd.Series(np.random.randn(10),index=range)\n",
    "index"
   ]
  },
  {
   "cell_type": "raw",
   "id": "11c01e82",
   "metadata": {},
   "source": [
    "As in the above output we make period of date as a index and storing series as value in it."
   ]
  },
  {
   "cell_type": "code",
   "execution_count": null,
   "id": "3642bed9",
   "metadata": {},
   "outputs": [],
   "source": [
    "# extracting the 5 dates and it values from the above output \n",
    "index['2023-09-01' : '2023-09-05']"
   ]
  },
  {
   "cell_type": "code",
   "execution_count": null,
   "id": "8f5c72f3",
   "metadata": {},
   "outputs": [],
   "source": [
    "type(index)"
   ]
  },
  {
   "cell_type": "code",
   "execution_count": null,
   "id": "546b0c35",
   "metadata": {},
   "outputs": [],
   "source": [
    "type(range)"
   ]
  },
  {
   "cell_type": "raw",
   "id": "073b5786",
   "metadata": {},
   "source": [
    "If we have make any date value into periodindex then simply by calling periodindex() and pass the  date value in periodindex ,lets see an exaple on this."
   ]
  },
  {
   "cell_type": "code",
   "execution_count": null,
   "id": "b9d0fcc5",
   "metadata": {},
   "outputs": [],
   "source": [
    "# creating a  simple dates range to understand periodindex\n",
    "value_of_date = ['2023/01/2','2023/08/3','2023/05/9','2023/07/4','2023/09/7']\n",
    "print(value_of_date)"
   ]
  },
  {
   "cell_type": "code",
   "execution_count": null,
   "id": "4f137ef1",
   "metadata": {},
   "outputs": [],
   "source": [
    "type(value_of_date)"
   ]
  },
  {
   "cell_type": "code",
   "execution_count": null,
   "id": "8e28d9f7",
   "metadata": {},
   "outputs": [],
   "source": [
    "# making index of the above output\n",
    "\n",
    "making_index = pd.PeriodIndex(value_of_date,freq='M')\n",
    "making_index"
   ]
  },
  {
   "cell_type": "code",
   "execution_count": null,
   "id": "6567c3b7",
   "metadata": {},
   "outputs": [],
   "source": [
    "# checking the data type\n",
    "type(making_index)"
   ]
  },
  {
   "cell_type": "markdown",
   "id": "13a8e71c",
   "metadata": {},
   "source": [
    "# Period Frequency Conversion using df.asfreq() method \n",
    "\n",
    "Periods and PeriodIndex objects can be converted to another frequency using their \n",
    "asfreq method.\n",
    "\n",
    "The pandas.Period.asfreq() method is used to convert  Period to desired frequency, at the start or end of the interval.\n",
    "\n",
    "For example , suppose we had an annual period and wanted to convert\n",
    "it into a monthly period either at the start or end of the year. This is fairly straightforward:\n",
    "\n",
    "Syntax:-\n",
    "\n",
    "DataFrame.asfreq(freq, method=None, how=None, normalize=False, fill_value=None)"
   ]
  },
  {
   "cell_type": "code",
   "execution_count": null,
   "id": "84c86788",
   "metadata": {},
   "outputs": [],
   "source": [
    "# making a annual period i.e from satrting month  to  ending month \n",
    "\n",
    "create = pd.Period('2023', freq='A-DEC') \n",
    "create"
   ]
  },
  {
   "cell_type": "code",
   "execution_count": null,
   "id": "2f203c33",
   "metadata": {},
   "outputs": [],
   "source": [
    "# now using pandas.period.asfreq method() to convert annual periods into months\n",
    "convert = create.asfreq(freq='M',how='start')\n",
    "convert"
   ]
  },
  {
   "cell_type": "raw",
   "id": "1cfeb821",
   "metadata": {},
   "source": [
    "Here we have converted  annual periods frequency into  month frequency "
   ]
  },
  {
   "cell_type": "code",
   "execution_count": 15,
   "id": "949c9dca",
   "metadata": {},
   "outputs": [
    {
     "ename": "NameError",
     "evalue": "name 'create' is not defined",
     "output_type": "error",
     "traceback": [
      "\u001b[1;31m---------------------------------------------------------------------------\u001b[0m",
      "\u001b[1;31mNameError\u001b[0m                                 Traceback (most recent call last)",
      "Input \u001b[1;32mIn [15]\u001b[0m, in \u001b[0;36m<cell line: 2>\u001b[1;34m()\u001b[0m\n\u001b[0;32m      1\u001b[0m \u001b[38;5;66;03m# converting into the day frequency\u001b[39;00m\n\u001b[1;32m----> 2\u001b[0m day\u001b[38;5;241m=\u001b[39m\u001b[43mcreate\u001b[49m\u001b[38;5;241m.\u001b[39masfreq(\u001b[38;5;124m'\u001b[39m\u001b[38;5;124mD\u001b[39m\u001b[38;5;124m'\u001b[39m,\u001b[38;5;124m'\u001b[39m\u001b[38;5;124ms\u001b[39m\u001b[38;5;124m'\u001b[39m)\n\u001b[0;32m      3\u001b[0m day\n",
      "\u001b[1;31mNameError\u001b[0m: name 'create' is not defined"
     ]
    }
   ],
   "source": [
    "# converting into the day frequency\n",
    "day=create.asfreq('D','s')\n",
    "day"
   ]
  },
  {
   "cell_type": "raw",
   "id": "28e7447d",
   "metadata": {},
   "source": [
    "As we can use small 's','e' for start an end point "
   ]
  },
  {
   "cell_type": "code",
   "execution_count": 16,
   "id": "2bf51b39",
   "metadata": {},
   "outputs": [
    {
     "ename": "NameError",
     "evalue": "name 'create' is not defined",
     "output_type": "error",
     "traceback": [
      "\u001b[1;31m---------------------------------------------------------------------------\u001b[0m",
      "\u001b[1;31mNameError\u001b[0m                                 Traceback (most recent call last)",
      "Input \u001b[1;32mIn [16]\u001b[0m, in \u001b[0;36m<cell line: 2>\u001b[1;34m()\u001b[0m\n\u001b[0;32m      1\u001b[0m \u001b[38;5;66;03m# converting into the day frequency and when will be day end\u001b[39;00m\n\u001b[1;32m----> 2\u001b[0m day_end\u001b[38;5;241m=\u001b[39m\u001b[43mcreate\u001b[49m\u001b[38;5;241m.\u001b[39masfreq(\u001b[38;5;124m'\u001b[39m\u001b[38;5;124mD\u001b[39m\u001b[38;5;124m'\u001b[39m,\u001b[38;5;124m'\u001b[39m\u001b[38;5;124me\u001b[39m\u001b[38;5;124m'\u001b[39m)\n\u001b[0;32m      3\u001b[0m day_end\n",
      "\u001b[1;31mNameError\u001b[0m: name 'create' is not defined"
     ]
    }
   ],
   "source": [
    "# converting into the day frequency and when will be day end\n",
    "day_end=create.asfreq('D','e')\n",
    "day_end"
   ]
  },
  {
   "cell_type": "code",
   "execution_count": null,
   "id": "78340d74",
   "metadata": {},
   "outputs": [],
   "source": [
    "# converting frequency into hrs starting day\n",
    "day_hrs=create.asfreq('H','s')\n",
    "day_hrs"
   ]
  },
  {
   "cell_type": "code",
   "execution_count": null,
   "id": "4781bd3f",
   "metadata": {},
   "outputs": [],
   "source": [
    "# converting frequency into hrs ending day\n",
    "day_hrs_end = create.asfreq('H','e')\n",
    "day_hrs_end"
   ]
  },
  {
   "cell_type": "code",
   "execution_count": null,
   "id": "d91ddb6c",
   "metadata": {},
   "outputs": [],
   "source": [
    "# now creating a period range i.e period index data type\n",
    "range=pd.period_range('2023-09-1', periods=12,freq='D')\n",
    "display(type(range),range)"
   ]
  },
  {
   "cell_type": "code",
   "execution_count": null,
   "id": "b93bf065",
   "metadata": {},
   "outputs": [],
   "source": [
    "# putting periods of range  into series and making range variable as index\n",
    "\n",
    "series=pd.Series(np.arange(12),index=range)\n",
    "series"
   ]
  },
  {
   "cell_type": "code",
   "execution_count": null,
   "id": "154b6df2",
   "metadata": {},
   "outputs": [],
   "source": [
    "# now converting the  day frequency into hours at starting point by using asfreq() method \n",
    "Hours_con = series.asfreq('H',how='start')\n",
    "Hours_con"
   ]
  },
  {
   "cell_type": "raw",
   "id": "6c745715",
   "metadata": {},
   "source": [
    "See the frequency is converted into hours at starting time "
   ]
  },
  {
   "cell_type": "code",
   "execution_count": null,
   "id": "7b67f266",
   "metadata": {},
   "outputs": [],
   "source": [
    "# now converting the  day frequency into hours at ending point by using asfreq() method \n",
    "Hours_con = series.asfreq('H',how='end')\n",
    "Hours_con"
   ]
  },
  {
   "cell_type": "code",
   "execution_count": null,
   "id": "1b1557f3",
   "metadata": {},
   "outputs": [],
   "source": [
    "See the frequency is converted into hours at ending time "
   ]
  },
  {
   "cell_type": "markdown",
   "id": "a4f9998d",
   "metadata": {},
   "source": [
    "# Quarterly Period Frequencies.\n",
    "\n",
    "There  is 12 month in every year the term Quarterly  is used to divide 12 months in 4 quarterly this term is most used in th finance,bussines etc.\n",
    "\n",
    "Much quarterly data is reported relative to a fiscal year end, typically the last calendar or business day of one of the 12 months of the year.\n",
    "\n",
    "The period 2012Q4 has a different meaning depending on fiscal year end. pandas supports all 12 possible quarterly frequencies as Q-JAN through Q-DEC"
   ]
  },
  {
   "cell_type": "code",
   "execution_count": 17,
   "id": "3a9d5656",
   "metadata": {},
   "outputs": [
    {
     "ename": "NameError",
     "evalue": "name 'pd' is not defined",
     "output_type": "error",
     "traceback": [
      "\u001b[1;31m---------------------------------------------------------------------------\u001b[0m",
      "\u001b[1;31mNameError\u001b[0m                                 Traceback (most recent call last)",
      "Input \u001b[1;32mIn [17]\u001b[0m, in \u001b[0;36m<cell line: 2>\u001b[1;34m()\u001b[0m\n\u001b[0;32m      1\u001b[0m \u001b[38;5;66;03m# quarter period \u001b[39;00m\n\u001b[1;32m----> 2\u001b[0m qrt\u001b[38;5;241m=\u001b[39m\u001b[43mpd\u001b[49m\u001b[38;5;241m.\u001b[39mPeriod(\u001b[38;5;124m'\u001b[39m\u001b[38;5;124m2013Q4\u001b[39m\u001b[38;5;124m'\u001b[39m,freq\u001b[38;5;241m=\u001b[39m\u001b[38;5;124m'\u001b[39m\u001b[38;5;124mQ-JAN\u001b[39m\u001b[38;5;124m'\u001b[39m)\n\u001b[0;32m      3\u001b[0m qrt\n",
      "\u001b[1;31mNameError\u001b[0m: name 'pd' is not defined"
     ]
    }
   ],
   "source": [
    "# quarter period \n",
    "qrt=pd.Period('2013Q4',freq='Q-JAN')\n",
    "qrt"
   ]
  },
  {
   "cell_type": "raw",
   "id": "ee1612eb",
   "metadata": {},
   "source": [
    "In the case of fiscal year ending in January, 2012Q4 runs from November through Jan\u0002uary, which you can check by converting to daily frequency."
   ]
  },
  {
   "cell_type": "code",
   "execution_count": 18,
   "id": "42892595",
   "metadata": {},
   "outputs": [
    {
     "ename": "NameError",
     "evalue": "name 'qrt' is not defined",
     "output_type": "error",
     "traceback": [
      "\u001b[1;31m---------------------------------------------------------------------------\u001b[0m",
      "\u001b[1;31mNameError\u001b[0m                                 Traceback (most recent call last)",
      "Input \u001b[1;32mIn [18]\u001b[0m, in \u001b[0;36m<cell line: 2>\u001b[1;34m()\u001b[0m\n\u001b[0;32m      1\u001b[0m \u001b[38;5;66;03m# converting the Quarter into day  from starting  using asfreq()\u001b[39;00m\n\u001b[1;32m----> 2\u001b[0m \u001b[43mqrt\u001b[49m\u001b[38;5;241m.\u001b[39masfreq(\u001b[38;5;124m'\u001b[39m\u001b[38;5;124mD\u001b[39m\u001b[38;5;124m'\u001b[39m,\u001b[38;5;124m'\u001b[39m\u001b[38;5;124ms\u001b[39m\u001b[38;5;124m'\u001b[39m)\n",
      "\u001b[1;31mNameError\u001b[0m: name 'qrt' is not defined"
     ]
    }
   ],
   "source": [
    "# converting the Quarter into day  from starting  using asfreq()\n",
    "qrt.asfreq('D','s')"
   ]
  },
  {
   "cell_type": "code",
   "execution_count": null,
   "id": "f6dbfac7",
   "metadata": {},
   "outputs": [],
   "source": [
    "# converting the Quarter into day  from ending  using asfreq()\n",
    "qrt.asfreq('D','e')"
   ]
  },
  {
   "cell_type": "code",
   "execution_count": null,
   "id": "9312e2f6",
   "metadata": {},
   "outputs": [],
   "source": [
    "# Generating quarterly ranges works using p.period_range()\n",
    "new = pd.period_range('2023Q3', '2024Q4',freq='Q-JAN')\n",
    "new"
   ]
  },
  {
   "cell_type": "code",
   "execution_count": null,
   "id": "ecd15026",
   "metadata": {},
   "outputs": [],
   "source": [
    "# putting into series \n",
    "seq = pd.Series(np.arange(len(new)),index=new)\n",
    "seq"
   ]
  },
  {
   "cell_type": "code",
   "execution_count": null,
   "id": "4e0424ff",
   "metadata": {
    "scrolled": false
   },
   "outputs": [],
   "source": [
    "# decreasing one day from qrt variable and performing time task on it\n",
    "p4 = (qrt.asfreq('B','e')-1).asfreq('T', 's') + 16 * 60\n",
    "p4"
   ]
  },
  {
   "cell_type": "code",
   "execution_count": null,
   "id": "b8d68c24",
   "metadata": {},
   "outputs": [],
   "source": [
    "# converting into timestamp\n",
    "p4.to_timestamp()"
   ]
  },
  {
   "cell_type": "code",
   "execution_count": null,
   "id": "cb2968ef",
   "metadata": {},
   "outputs": [],
   "source": [
    "p41 = (new.asfreq('B','e')-1).asfreq('T', 's') + 16 * 60\n",
    "p41"
   ]
  },
  {
   "cell_type": "code",
   "execution_count": null,
   "id": "bfef764d",
   "metadata": {},
   "outputs": [],
   "source": [
    "seq.index=p41.to_timestamp()\n",
    "seq"
   ]
  },
  {
   "cell_type": "markdown",
   "id": "03513303",
   "metadata": {},
   "source": [
    "# Converting Timestamps to Periods (and Back)\n"
   ]
  },
  {
   "cell_type": "code",
   "execution_count": null,
   "id": "706ecd2f",
   "metadata": {},
   "outputs": [],
   "source": [
    "# making range oeriod so we can convert it.\n",
    "md = pd.period_range('2021/1/1', periods=12, freq='D')\n",
    "ts = pd.Series(np.arange(len(md)),index=md)\n",
    "ts"
   ]
  },
  {
   "cell_type": "code",
   "execution_count": null,
   "id": "0efb5f53",
   "metadata": {},
   "outputs": [],
   "source": [
    "#Converting Timestamps to Periods (and Back)\n",
    "pts=ts.to_timestamp()\n",
    "pts\n"
   ]
  },
  {
   "cell_type": "code",
   "execution_count": null,
   "id": "161f208b",
   "metadata": {},
   "outputs": [],
   "source": [
    "pts=ts.to_period\n",
    "pts"
   ]
  },
  {
   "cell_type": "code",
   "execution_count": null,
   "id": "2cf9188e",
   "metadata": {},
   "outputs": [],
   "source": []
  },
  {
   "cell_type": "code",
   "execution_count": null,
   "id": "01ae8318",
   "metadata": {},
   "outputs": [],
   "source": []
  },
  {
   "cell_type": "code",
   "execution_count": null,
   "id": "ff8dd688",
   "metadata": {},
   "outputs": [],
   "source": []
  },
  {
   "cell_type": "code",
   "execution_count": null,
   "id": "348f9741",
   "metadata": {},
   "outputs": [],
   "source": []
  },
  {
   "cell_type": "code",
   "execution_count": null,
   "id": "6577edc6",
   "metadata": {},
   "outputs": [],
   "source": []
  },
  {
   "cell_type": "code",
   "execution_count": null,
   "id": "3a485fdd",
   "metadata": {},
   "outputs": [],
   "source": []
  },
  {
   "cell_type": "code",
   "execution_count": null,
   "id": "ab91c9fe",
   "metadata": {},
   "outputs": [],
   "source": []
  }
 ],
 "metadata": {
  "kernelspec": {
   "display_name": "Python 3 (ipykernel)",
   "language": "python",
   "name": "python3"
  },
  "language_info": {
   "codemirror_mode": {
    "name": "ipython",
    "version": 3
   },
   "file_extension": ".py",
   "mimetype": "text/x-python",
   "name": "python",
   "nbconvert_exporter": "python",
   "pygments_lexer": "ipython3",
   "version": "3.9.12"
  }
 },
 "nbformat": 4,
 "nbformat_minor": 5
}
